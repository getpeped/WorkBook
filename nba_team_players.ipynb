{
 "cells": [
  {
   "cell_type": "code",
   "execution_count": 1,
   "metadata": {},
   "outputs": [
    {
     "data": {
      "application/vnd.microsoft.datawrangler.viewer.v0+json": {
       "columns": [
        {
         "name": "index",
         "rawType": "int64",
         "type": "integer"
        },
        {
         "name": "gameorder",
         "rawType": "int64",
         "type": "integer"
        },
        {
         "name": "game_id",
         "rawType": "object",
         "type": "string"
        },
        {
         "name": "lg_id",
         "rawType": "object",
         "type": "string"
        },
        {
         "name": "_iscopy",
         "rawType": "int64",
         "type": "integer"
        },
        {
         "name": "year_id",
         "rawType": "int64",
         "type": "integer"
        },
        {
         "name": "date_game",
         "rawType": "object",
         "type": "string"
        },
        {
         "name": "seasongame",
         "rawType": "int64",
         "type": "integer"
        },
        {
         "name": "is_playoffs",
         "rawType": "int64",
         "type": "integer"
        },
        {
         "name": "team_id",
         "rawType": "object",
         "type": "string"
        },
        {
         "name": "fran_id",
         "rawType": "object",
         "type": "string"
        },
        {
         "name": "pts",
         "rawType": "int64",
         "type": "integer"
        },
        {
         "name": "elo_i",
         "rawType": "float64",
         "type": "float"
        },
        {
         "name": "elo_n",
         "rawType": "float64",
         "type": "float"
        },
        {
         "name": "win_equiv",
         "rawType": "float64",
         "type": "float"
        },
        {
         "name": "opp_id",
         "rawType": "object",
         "type": "string"
        },
        {
         "name": "opp_fran",
         "rawType": "object",
         "type": "string"
        },
        {
         "name": "opp_pts",
         "rawType": "int64",
         "type": "integer"
        },
        {
         "name": "opp_elo_i",
         "rawType": "float64",
         "type": "float"
        },
        {
         "name": "opp_elo_n",
         "rawType": "float64",
         "type": "float"
        },
        {
         "name": "game_location",
         "rawType": "object",
         "type": "string"
        },
        {
         "name": "game_result",
         "rawType": "object",
         "type": "string"
        },
        {
         "name": "forecast",
         "rawType": "float64",
         "type": "float"
        },
        {
         "name": "notes",
         "rawType": "object",
         "type": "unknown"
        }
       ],
       "ref": "d831e5bb-021e-4f37-9d18-6cee7ffc8c5c",
       "rows": [
        [
         "0",
         "1",
         "194611010TRH",
         "NBA",
         "0",
         "1947",
         "11/1/1946",
         "1",
         "0",
         "TRH",
         "Huskies",
         "66",
         "1300.0",
         "1293.2767",
         "40.29483",
         "NYK",
         "Knicks",
         "68",
         "1300.0",
         "1306.7233",
         "H",
         "L",
         "0.64006501",
         null
        ],
        [
         "1",
         "1",
         "194611010TRH",
         "NBA",
         "1",
         "1947",
         "11/1/1946",
         "1",
         "0",
         "NYK",
         "Knicks",
         "68",
         "1300.0",
         "1306.7233",
         "41.70517",
         "TRH",
         "Huskies",
         "66",
         "1300.0",
         "1293.2767",
         "A",
         "W",
         "0.35993499",
         null
        ],
        [
         "2",
         "2",
         "194611020CHS",
         "NBA",
         "0",
         "1947",
         "11/2/1946",
         "1",
         "0",
         "CHS",
         "Stags",
         "63",
         "1300.0",
         "1309.6521",
         "42.012257",
         "NYK",
         "Knicks",
         "47",
         "1306.7233",
         "1297.0712",
         "H",
         "W",
         "0.63110125",
         null
        ],
        [
         "3",
         "2",
         "194611020CHS",
         "NBA",
         "1",
         "1947",
         "11/2/1946",
         "2",
         "0",
         "NYK",
         "Knicks",
         "47",
         "1306.7233",
         "1297.0712",
         "40.692783",
         "CHS",
         "Stags",
         "63",
         "1300.0",
         "1309.6521",
         "A",
         "L",
         "0.36889875",
         null
        ],
        [
         "4",
         "3",
         "194611020DTF",
         "NBA",
         "0",
         "1947",
         "11/2/1946",
         "1",
         "0",
         "DTF",
         "Falcons",
         "33",
         "1300.0",
         "1279.6189",
         "38.864048",
         "WSC",
         "Capitols",
         "50",
         "1300.0",
         "1320.3811",
         "H",
         "L",
         "0.64006501",
         null
        ]
       ],
       "shape": {
        "columns": 23,
        "rows": 5
       }
      },
      "text/html": [
       "<div>\n",
       "<style scoped>\n",
       "    .dataframe tbody tr th:only-of-type {\n",
       "        vertical-align: middle;\n",
       "    }\n",
       "\n",
       "    .dataframe tbody tr th {\n",
       "        vertical-align: top;\n",
       "    }\n",
       "\n",
       "    .dataframe thead th {\n",
       "        text-align: right;\n",
       "    }\n",
       "</style>\n",
       "<table border=\"1\" class=\"dataframe\">\n",
       "  <thead>\n",
       "    <tr style=\"text-align: right;\">\n",
       "      <th></th>\n",
       "      <th>gameorder</th>\n",
       "      <th>game_id</th>\n",
       "      <th>lg_id</th>\n",
       "      <th>_iscopy</th>\n",
       "      <th>year_id</th>\n",
       "      <th>date_game</th>\n",
       "      <th>seasongame</th>\n",
       "      <th>is_playoffs</th>\n",
       "      <th>team_id</th>\n",
       "      <th>fran_id</th>\n",
       "      <th>pts</th>\n",
       "      <th>elo_i</th>\n",
       "      <th>elo_n</th>\n",
       "      <th>win_equiv</th>\n",
       "      <th>opp_id</th>\n",
       "      <th>opp_fran</th>\n",
       "      <th>opp_pts</th>\n",
       "      <th>opp_elo_i</th>\n",
       "      <th>opp_elo_n</th>\n",
       "      <th>game_location</th>\n",
       "      <th>game_result</th>\n",
       "      <th>forecast</th>\n",
       "      <th>notes</th>\n",
       "    </tr>\n",
       "  </thead>\n",
       "  <tbody>\n",
       "    <tr>\n",
       "      <th>0</th>\n",
       "      <td>1</td>\n",
       "      <td>194611010TRH</td>\n",
       "      <td>NBA</td>\n",
       "      <td>0</td>\n",
       "      <td>1947</td>\n",
       "      <td>11/1/1946</td>\n",
       "      <td>1</td>\n",
       "      <td>0</td>\n",
       "      <td>TRH</td>\n",
       "      <td>Huskies</td>\n",
       "      <td>66</td>\n",
       "      <td>1300.00</td>\n",
       "      <td>1293.28</td>\n",
       "      <td>40.29</td>\n",
       "      <td>NYK</td>\n",
       "      <td>Knicks</td>\n",
       "      <td>68</td>\n",
       "      <td>1300.00</td>\n",
       "      <td>1306.72</td>\n",
       "      <td>H</td>\n",
       "      <td>L</td>\n",
       "      <td>0.64</td>\n",
       "      <td>NaN</td>\n",
       "    </tr>\n",
       "    <tr>\n",
       "      <th>1</th>\n",
       "      <td>1</td>\n",
       "      <td>194611010TRH</td>\n",
       "      <td>NBA</td>\n",
       "      <td>1</td>\n",
       "      <td>1947</td>\n",
       "      <td>11/1/1946</td>\n",
       "      <td>1</td>\n",
       "      <td>0</td>\n",
       "      <td>NYK</td>\n",
       "      <td>Knicks</td>\n",
       "      <td>68</td>\n",
       "      <td>1300.00</td>\n",
       "      <td>1306.72</td>\n",
       "      <td>41.71</td>\n",
       "      <td>TRH</td>\n",
       "      <td>Huskies</td>\n",
       "      <td>66</td>\n",
       "      <td>1300.00</td>\n",
       "      <td>1293.28</td>\n",
       "      <td>A</td>\n",
       "      <td>W</td>\n",
       "      <td>0.36</td>\n",
       "      <td>NaN</td>\n",
       "    </tr>\n",
       "    <tr>\n",
       "      <th>2</th>\n",
       "      <td>2</td>\n",
       "      <td>194611020CHS</td>\n",
       "      <td>NBA</td>\n",
       "      <td>0</td>\n",
       "      <td>1947</td>\n",
       "      <td>11/2/1946</td>\n",
       "      <td>1</td>\n",
       "      <td>0</td>\n",
       "      <td>CHS</td>\n",
       "      <td>Stags</td>\n",
       "      <td>63</td>\n",
       "      <td>1300.00</td>\n",
       "      <td>1309.65</td>\n",
       "      <td>42.01</td>\n",
       "      <td>NYK</td>\n",
       "      <td>Knicks</td>\n",
       "      <td>47</td>\n",
       "      <td>1306.72</td>\n",
       "      <td>1297.07</td>\n",
       "      <td>H</td>\n",
       "      <td>W</td>\n",
       "      <td>0.63</td>\n",
       "      <td>NaN</td>\n",
       "    </tr>\n",
       "    <tr>\n",
       "      <th>3</th>\n",
       "      <td>2</td>\n",
       "      <td>194611020CHS</td>\n",
       "      <td>NBA</td>\n",
       "      <td>1</td>\n",
       "      <td>1947</td>\n",
       "      <td>11/2/1946</td>\n",
       "      <td>2</td>\n",
       "      <td>0</td>\n",
       "      <td>NYK</td>\n",
       "      <td>Knicks</td>\n",
       "      <td>47</td>\n",
       "      <td>1306.72</td>\n",
       "      <td>1297.07</td>\n",
       "      <td>40.69</td>\n",
       "      <td>CHS</td>\n",
       "      <td>Stags</td>\n",
       "      <td>63</td>\n",
       "      <td>1300.00</td>\n",
       "      <td>1309.65</td>\n",
       "      <td>A</td>\n",
       "      <td>L</td>\n",
       "      <td>0.37</td>\n",
       "      <td>NaN</td>\n",
       "    </tr>\n",
       "    <tr>\n",
       "      <th>4</th>\n",
       "      <td>3</td>\n",
       "      <td>194611020DTF</td>\n",
       "      <td>NBA</td>\n",
       "      <td>0</td>\n",
       "      <td>1947</td>\n",
       "      <td>11/2/1946</td>\n",
       "      <td>1</td>\n",
       "      <td>0</td>\n",
       "      <td>DTF</td>\n",
       "      <td>Falcons</td>\n",
       "      <td>33</td>\n",
       "      <td>1300.00</td>\n",
       "      <td>1279.62</td>\n",
       "      <td>38.86</td>\n",
       "      <td>WSC</td>\n",
       "      <td>Capitols</td>\n",
       "      <td>50</td>\n",
       "      <td>1300.00</td>\n",
       "      <td>1320.38</td>\n",
       "      <td>H</td>\n",
       "      <td>L</td>\n",
       "      <td>0.64</td>\n",
       "      <td>NaN</td>\n",
       "    </tr>\n",
       "  </tbody>\n",
       "</table>\n",
       "</div>"
      ],
      "text/plain": [
       "   gameorder       game_id lg_id  _iscopy  year_id  date_game  seasongame  \\\n",
       "0          1  194611010TRH   NBA        0     1947  11/1/1946           1   \n",
       "1          1  194611010TRH   NBA        1     1947  11/1/1946           1   \n",
       "2          2  194611020CHS   NBA        0     1947  11/2/1946           1   \n",
       "3          2  194611020CHS   NBA        1     1947  11/2/1946           2   \n",
       "4          3  194611020DTF   NBA        0     1947  11/2/1946           1   \n",
       "\n",
       "   is_playoffs team_id  fran_id  pts    elo_i    elo_n  win_equiv opp_id  \\\n",
       "0            0     TRH  Huskies   66  1300.00  1293.28      40.29    NYK   \n",
       "1            0     NYK   Knicks   68  1300.00  1306.72      41.71    TRH   \n",
       "2            0     CHS    Stags   63  1300.00  1309.65      42.01    NYK   \n",
       "3            0     NYK   Knicks   47  1306.72  1297.07      40.69    CHS   \n",
       "4            0     DTF  Falcons   33  1300.00  1279.62      38.86    WSC   \n",
       "\n",
       "   opp_fran  opp_pts  opp_elo_i  opp_elo_n game_location game_result  \\\n",
       "0    Knicks       68    1300.00    1306.72             H           L   \n",
       "1   Huskies       66    1300.00    1293.28             A           W   \n",
       "2    Knicks       47    1306.72    1297.07             H           W   \n",
       "3     Stags       63    1300.00    1309.65             A           L   \n",
       "4  Capitols       50    1300.00    1320.38             H           L   \n",
       "\n",
       "   forecast notes  \n",
       "0      0.64   NaN  \n",
       "1      0.36   NaN  \n",
       "2      0.63   NaN  \n",
       "3      0.37   NaN  \n",
       "4      0.64   NaN  "
      ]
     },
     "execution_count": 1,
     "metadata": {},
     "output_type": "execute_result"
    }
   ],
   "source": [
    "import pandas as pd\n",
    "pd.set_option('display.max.columns', None)\n",
    "pd.set_option('display.precision', 2)\n",
    "\n",
    "url = 'https://raw.githubusercontent.com/fivethirtyeight/data/master/nba-elo/nbaallelo.csv'\n",
    "df = pd.read_csv(url)\n",
    "df.head()"
   ]
  },
  {
   "cell_type": "code",
   "execution_count": 2,
   "metadata": {},
   "outputs": [
    {
     "name": "stdout",
     "output_type": "stream",
     "text": [
      "<class 'pandas.core.frame.DataFrame'>\n",
      "RangeIndex: 126314 entries, 0 to 126313\n",
      "Data columns (total 23 columns):\n",
      " #   Column         Non-Null Count   Dtype  \n",
      "---  ------         --------------   -----  \n",
      " 0   gameorder      126314 non-null  int64  \n",
      " 1   game_id        126314 non-null  object \n",
      " 2   lg_id          126314 non-null  object \n",
      " 3   _iscopy        126314 non-null  int64  \n",
      " 4   year_id        126314 non-null  int64  \n",
      " 5   date_game      126314 non-null  object \n",
      " 6   seasongame     126314 non-null  int64  \n",
      " 7   is_playoffs    126314 non-null  int64  \n",
      " 8   team_id        126314 non-null  object \n",
      " 9   fran_id        126314 non-null  object \n",
      " 10  pts            126314 non-null  int64  \n",
      " 11  elo_i          126314 non-null  float64\n",
      " 12  elo_n          126314 non-null  float64\n",
      " 13  win_equiv      126314 non-null  float64\n",
      " 14  opp_id         126314 non-null  object \n",
      " 15  opp_fran       126314 non-null  object \n",
      " 16  opp_pts        126314 non-null  int64  \n",
      " 17  opp_elo_i      126314 non-null  float64\n",
      " 18  opp_elo_n      126314 non-null  float64\n",
      " 19  game_location  126314 non-null  object \n",
      " 20  game_result    126314 non-null  object \n",
      " 21  forecast       126314 non-null  float64\n",
      " 22  notes          5424 non-null    object \n",
      "dtypes: float64(6), int64(7), object(10)\n",
      "memory usage: 22.2+ MB\n"
     ]
    }
   ],
   "source": [
    "df.info()"
   ]
  },
  {
   "cell_type": "code",
   "execution_count": 3,
   "metadata": {},
   "outputs": [
    {
     "data": {
      "application/vnd.microsoft.datawrangler.viewer.v0+json": {
       "columns": [
        {
         "name": "index",
         "rawType": "object",
         "type": "string"
        },
        {
         "name": "count",
         "rawType": "float64",
         "type": "float"
        },
        {
         "name": "mean",
         "rawType": "float64",
         "type": "float"
        },
        {
         "name": "std",
         "rawType": "float64",
         "type": "float"
        },
        {
         "name": "min",
         "rawType": "float64",
         "type": "float"
        },
        {
         "name": "25%",
         "rawType": "float64",
         "type": "float"
        },
        {
         "name": "50%",
         "rawType": "float64",
         "type": "float"
        },
        {
         "name": "75%",
         "rawType": "float64",
         "type": "float"
        },
        {
         "name": "max",
         "rawType": "float64",
         "type": "float"
        }
       ],
       "ref": "ae133ff1-1f94-4bca-a0e8-e0272ad2ad24",
       "rows": [
        [
         "gameorder",
         "126314.0",
         "31579.0",
         "18231.93",
         "1.0",
         "15790.0",
         "31579.0",
         "47368.0",
         "63157.0"
        ],
        [
         "_iscopy",
         "126314.0",
         "0.5",
         "0.5",
         "0.0",
         "0.0",
         "0.5",
         "1.0",
         "1.0"
        ],
        [
         "year_id",
         "126314.0",
         "1988.2",
         "17.58",
         "1947.0",
         "1975.0",
         "1990.0",
         "2003.0",
         "2015.0"
        ],
        [
         "seasongame",
         "126314.0",
         "43.53",
         "25.38",
         "1.0",
         "22.0",
         "43.0",
         "65.0",
         "108.0"
        ],
        [
         "is_playoffs",
         "126314.0",
         "0.06",
         "0.24",
         "0.0",
         "0.0",
         "0.0",
         "0.0",
         "1.0"
        ],
        [
         "pts",
         "126314.0",
         "102.73",
         "14.81",
         "0.0",
         "93.0",
         "103.0",
         "112.0",
         "186.0"
        ],
        [
         "elo_i",
         "126314.0",
         "1495.24",
         "112.14",
         "1091.64",
         "1417.24",
         "1500.95",
         "1576.06",
         "1853.1"
        ],
        [
         "elo_n",
         "126314.0",
         "1495.24",
         "112.46",
         "1085.77",
         "1416.99",
         "1500.95",
         "1576.29",
         "1853.1"
        ],
        [
         "win_equiv",
         "126314.0",
         "41.71",
         "10.63",
         "10.15",
         "34.1",
         "42.11",
         "49.64",
         "71.11"
        ],
        [
         "opp_pts",
         "126314.0",
         "102.73",
         "14.81",
         "0.0",
         "93.0",
         "103.0",
         "112.0",
         "186.0"
        ],
        [
         "opp_elo_i",
         "126314.0",
         "1495.24",
         "112.14",
         "1091.64",
         "1417.24",
         "1500.95",
         "1576.06",
         "1853.1"
        ],
        [
         "opp_elo_n",
         "126314.0",
         "1495.24",
         "112.46",
         "1085.77",
         "1416.99",
         "1500.95",
         "1576.29",
         "1853.1"
        ],
        [
         "forecast",
         "126314.0",
         "0.5",
         "0.22",
         "0.02",
         "0.33",
         "0.5",
         "0.67",
         "0.98"
        ]
       ],
       "shape": {
        "columns": 8,
        "rows": 13
       }
      },
      "text/html": [
       "<div>\n",
       "<style scoped>\n",
       "    .dataframe tbody tr th:only-of-type {\n",
       "        vertical-align: middle;\n",
       "    }\n",
       "\n",
       "    .dataframe tbody tr th {\n",
       "        vertical-align: top;\n",
       "    }\n",
       "\n",
       "    .dataframe thead th {\n",
       "        text-align: right;\n",
       "    }\n",
       "</style>\n",
       "<table border=\"1\" class=\"dataframe\">\n",
       "  <thead>\n",
       "    <tr style=\"text-align: right;\">\n",
       "      <th></th>\n",
       "      <th>count</th>\n",
       "      <th>mean</th>\n",
       "      <th>std</th>\n",
       "      <th>min</th>\n",
       "      <th>25%</th>\n",
       "      <th>50%</th>\n",
       "      <th>75%</th>\n",
       "      <th>max</th>\n",
       "    </tr>\n",
       "  </thead>\n",
       "  <tbody>\n",
       "    <tr>\n",
       "      <th>gameorder</th>\n",
       "      <td>126314.0</td>\n",
       "      <td>31579.00</td>\n",
       "      <td>18231.93</td>\n",
       "      <td>1.00</td>\n",
       "      <td>15790.00</td>\n",
       "      <td>31579.00</td>\n",
       "      <td>47368.00</td>\n",
       "      <td>63157.00</td>\n",
       "    </tr>\n",
       "    <tr>\n",
       "      <th>_iscopy</th>\n",
       "      <td>126314.0</td>\n",
       "      <td>0.50</td>\n",
       "      <td>0.50</td>\n",
       "      <td>0.00</td>\n",
       "      <td>0.00</td>\n",
       "      <td>0.50</td>\n",
       "      <td>1.00</td>\n",
       "      <td>1.00</td>\n",
       "    </tr>\n",
       "    <tr>\n",
       "      <th>year_id</th>\n",
       "      <td>126314.0</td>\n",
       "      <td>1988.20</td>\n",
       "      <td>17.58</td>\n",
       "      <td>1947.00</td>\n",
       "      <td>1975.00</td>\n",
       "      <td>1990.00</td>\n",
       "      <td>2003.00</td>\n",
       "      <td>2015.00</td>\n",
       "    </tr>\n",
       "    <tr>\n",
       "      <th>seasongame</th>\n",
       "      <td>126314.0</td>\n",
       "      <td>43.53</td>\n",
       "      <td>25.38</td>\n",
       "      <td>1.00</td>\n",
       "      <td>22.00</td>\n",
       "      <td>43.00</td>\n",
       "      <td>65.00</td>\n",
       "      <td>108.00</td>\n",
       "    </tr>\n",
       "    <tr>\n",
       "      <th>is_playoffs</th>\n",
       "      <td>126314.0</td>\n",
       "      <td>0.06</td>\n",
       "      <td>0.24</td>\n",
       "      <td>0.00</td>\n",
       "      <td>0.00</td>\n",
       "      <td>0.00</td>\n",
       "      <td>0.00</td>\n",
       "      <td>1.00</td>\n",
       "    </tr>\n",
       "    <tr>\n",
       "      <th>pts</th>\n",
       "      <td>126314.0</td>\n",
       "      <td>102.73</td>\n",
       "      <td>14.81</td>\n",
       "      <td>0.00</td>\n",
       "      <td>93.00</td>\n",
       "      <td>103.00</td>\n",
       "      <td>112.00</td>\n",
       "      <td>186.00</td>\n",
       "    </tr>\n",
       "    <tr>\n",
       "      <th>elo_i</th>\n",
       "      <td>126314.0</td>\n",
       "      <td>1495.24</td>\n",
       "      <td>112.14</td>\n",
       "      <td>1091.64</td>\n",
       "      <td>1417.24</td>\n",
       "      <td>1500.95</td>\n",
       "      <td>1576.06</td>\n",
       "      <td>1853.10</td>\n",
       "    </tr>\n",
       "    <tr>\n",
       "      <th>elo_n</th>\n",
       "      <td>126314.0</td>\n",
       "      <td>1495.24</td>\n",
       "      <td>112.46</td>\n",
       "      <td>1085.77</td>\n",
       "      <td>1416.99</td>\n",
       "      <td>1500.95</td>\n",
       "      <td>1576.29</td>\n",
       "      <td>1853.10</td>\n",
       "    </tr>\n",
       "    <tr>\n",
       "      <th>win_equiv</th>\n",
       "      <td>126314.0</td>\n",
       "      <td>41.71</td>\n",
       "      <td>10.63</td>\n",
       "      <td>10.15</td>\n",
       "      <td>34.10</td>\n",
       "      <td>42.11</td>\n",
       "      <td>49.64</td>\n",
       "      <td>71.11</td>\n",
       "    </tr>\n",
       "    <tr>\n",
       "      <th>opp_pts</th>\n",
       "      <td>126314.0</td>\n",
       "      <td>102.73</td>\n",
       "      <td>14.81</td>\n",
       "      <td>0.00</td>\n",
       "      <td>93.00</td>\n",
       "      <td>103.00</td>\n",
       "      <td>112.00</td>\n",
       "      <td>186.00</td>\n",
       "    </tr>\n",
       "    <tr>\n",
       "      <th>opp_elo_i</th>\n",
       "      <td>126314.0</td>\n",
       "      <td>1495.24</td>\n",
       "      <td>112.14</td>\n",
       "      <td>1091.64</td>\n",
       "      <td>1417.24</td>\n",
       "      <td>1500.95</td>\n",
       "      <td>1576.06</td>\n",
       "      <td>1853.10</td>\n",
       "    </tr>\n",
       "    <tr>\n",
       "      <th>opp_elo_n</th>\n",
       "      <td>126314.0</td>\n",
       "      <td>1495.24</td>\n",
       "      <td>112.46</td>\n",
       "      <td>1085.77</td>\n",
       "      <td>1416.99</td>\n",
       "      <td>1500.95</td>\n",
       "      <td>1576.29</td>\n",
       "      <td>1853.10</td>\n",
       "    </tr>\n",
       "    <tr>\n",
       "      <th>forecast</th>\n",
       "      <td>126314.0</td>\n",
       "      <td>0.50</td>\n",
       "      <td>0.22</td>\n",
       "      <td>0.02</td>\n",
       "      <td>0.33</td>\n",
       "      <td>0.50</td>\n",
       "      <td>0.67</td>\n",
       "      <td>0.98</td>\n",
       "    </tr>\n",
       "  </tbody>\n",
       "</table>\n",
       "</div>"
      ],
      "text/plain": [
       "                count      mean       std      min       25%       50%  \\\n",
       "gameorder    126314.0  31579.00  18231.93     1.00  15790.00  31579.00   \n",
       "_iscopy      126314.0      0.50      0.50     0.00      0.00      0.50   \n",
       "year_id      126314.0   1988.20     17.58  1947.00   1975.00   1990.00   \n",
       "seasongame   126314.0     43.53     25.38     1.00     22.00     43.00   \n",
       "is_playoffs  126314.0      0.06      0.24     0.00      0.00      0.00   \n",
       "pts          126314.0    102.73     14.81     0.00     93.00    103.00   \n",
       "elo_i        126314.0   1495.24    112.14  1091.64   1417.24   1500.95   \n",
       "elo_n        126314.0   1495.24    112.46  1085.77   1416.99   1500.95   \n",
       "win_equiv    126314.0     41.71     10.63    10.15     34.10     42.11   \n",
       "opp_pts      126314.0    102.73     14.81     0.00     93.00    103.00   \n",
       "opp_elo_i    126314.0   1495.24    112.14  1091.64   1417.24   1500.95   \n",
       "opp_elo_n    126314.0   1495.24    112.46  1085.77   1416.99   1500.95   \n",
       "forecast     126314.0      0.50      0.22     0.02      0.33      0.50   \n",
       "\n",
       "                  75%       max  \n",
       "gameorder    47368.00  63157.00  \n",
       "_iscopy          1.00      1.00  \n",
       "year_id       2003.00   2015.00  \n",
       "seasongame      65.00    108.00  \n",
       "is_playoffs      0.00      1.00  \n",
       "pts            112.00    186.00  \n",
       "elo_i         1576.06   1853.10  \n",
       "elo_n         1576.29   1853.10  \n",
       "win_equiv       49.64     71.11  \n",
       "opp_pts        112.00    186.00  \n",
       "opp_elo_i     1576.06   1853.10  \n",
       "opp_elo_n     1576.29   1853.10  \n",
       "forecast         0.67      0.98  "
      ]
     },
     "execution_count": 3,
     "metadata": {},
     "output_type": "execute_result"
    }
   ],
   "source": [
    "df.describe().round(2).T\n",
    "# df.describe(include=object)"
   ]
  },
  {
   "cell_type": "code",
   "execution_count": 4,
   "metadata": {},
   "outputs": [
    {
     "data": {
      "application/vnd.microsoft.datawrangler.viewer.v0+json": {
       "columns": [
        {
         "name": "team_id",
         "rawType": "object",
         "type": "string"
        },
        {
         "name": "count",
         "rawType": "int64",
         "type": "integer"
        }
       ],
       "ref": "99ef66ff-9a50-40e0-88d0-917e5195aef3",
       "rows": [
        [
         "LAL",
         "5078"
        ],
        [
         "MNL",
         "946"
        ]
       ],
       "shape": {
        "columns": 1,
        "rows": 2
       }
      },
      "text/plain": [
       "team_id\n",
       "LAL    5078\n",
       "MNL     946\n",
       "Name: count, dtype: int64"
      ]
     },
     "execution_count": 4,
     "metadata": {},
     "output_type": "execute_result"
    }
   ],
   "source": [
    "df.loc[df['fran_id'] == 'Lakers', 'team_id'].value_counts()"
   ]
  },
  {
   "cell_type": "code",
   "execution_count": 5,
   "metadata": {},
   "outputs": [
    {
     "data": {
      "application/vnd.microsoft.datawrangler.viewer.v0+json": {
       "columns": [
        {
         "name": "index",
         "rawType": "int64",
         "type": "integer"
        },
        {
         "name": "game_played",
         "rawType": "datetime64[ns]",
         "type": "datetime"
        }
       ],
       "ref": "5a9f96fe-6c18-4ccc-a6b3-a16a0ca41952",
       "rows": [
        [
         "0",
         "1946-11-01 00:00:00"
        ],
        [
         "1",
         "1946-11-01 00:00:00"
        ],
        [
         "2",
         "1946-11-02 00:00:00"
        ],
        [
         "3",
         "1946-11-02 00:00:00"
        ],
        [
         "4",
         "1946-11-02 00:00:00"
        ]
       ],
       "shape": {
        "columns": 1,
        "rows": 5
       }
      },
      "text/plain": [
       "0   1946-11-01\n",
       "1   1946-11-01\n",
       "2   1946-11-02\n",
       "3   1946-11-02\n",
       "4   1946-11-02\n",
       "Name: game_played, dtype: datetime64[ns]"
      ]
     },
     "execution_count": 5,
     "metadata": {},
     "output_type": "execute_result"
    }
   ],
   "source": [
    "df['game_played'] = pd.to_datetime(df['date_game'])\n",
    "df['game_played'].head()"
   ]
  },
  {
   "cell_type": "code",
   "execution_count": 6,
   "metadata": {},
   "outputs": [
    {
     "data": {
      "application/vnd.microsoft.datawrangler.viewer.v0+json": {
       "columns": [
        {
         "name": "index",
         "rawType": "object",
         "type": "string"
        },
        {
         "name": "game_played",
         "rawType": "datetime64[ns]",
         "type": "datetime"
        }
       ],
       "ref": "33cca0cb-369b-4610-b0a8-784f287ff1df",
       "rows": [
        [
         "min",
         "1948-11-04 00:00:00"
        ],
        [
         "max",
         "1960-03-26 00:00:00"
        ]
       ],
       "shape": {
        "columns": 1,
        "rows": 2
       }
      },
      "text/plain": [
       "min   1948-11-04\n",
       "max   1960-03-26\n",
       "Name: game_played, dtype: datetime64[ns]"
      ]
     },
     "execution_count": 6,
     "metadata": {},
     "output_type": "execute_result"
    }
   ],
   "source": [
    "df.loc[df['team_id'] == 'MNL', 'game_played'].agg(['min', 'max'])"
   ]
  },
  {
   "cell_type": "code",
   "execution_count": 7,
   "metadata": {},
   "outputs": [
    {
     "data": {
      "application/vnd.microsoft.datawrangler.viewer.v0+json": {
       "columns": [
        {
         "name": "index",
         "rawType": "int64",
         "type": "integer"
        },
        {
         "name": "gameorder",
         "rawType": "int64",
         "type": "integer"
        },
        {
         "name": "game_id",
         "rawType": "object",
         "type": "string"
        },
        {
         "name": "lg_id",
         "rawType": "object",
         "type": "string"
        },
        {
         "name": "_iscopy",
         "rawType": "int64",
         "type": "integer"
        },
        {
         "name": "year_id",
         "rawType": "int64",
         "type": "integer"
        },
        {
         "name": "date_game",
         "rawType": "object",
         "type": "string"
        },
        {
         "name": "seasongame",
         "rawType": "int64",
         "type": "integer"
        },
        {
         "name": "is_playoffs",
         "rawType": "int64",
         "type": "integer"
        },
        {
         "name": "team_id",
         "rawType": "object",
         "type": "string"
        },
        {
         "name": "fran_id",
         "rawType": "object",
         "type": "string"
        },
        {
         "name": "pts",
         "rawType": "int64",
         "type": "integer"
        },
        {
         "name": "elo_i",
         "rawType": "float64",
         "type": "float"
        },
        {
         "name": "elo_n",
         "rawType": "float64",
         "type": "float"
        },
        {
         "name": "win_equiv",
         "rawType": "float64",
         "type": "float"
        },
        {
         "name": "opp_id",
         "rawType": "object",
         "type": "string"
        },
        {
         "name": "opp_fran",
         "rawType": "object",
         "type": "string"
        },
        {
         "name": "opp_pts",
         "rawType": "int64",
         "type": "integer"
        },
        {
         "name": "opp_elo_i",
         "rawType": "float64",
         "type": "float"
        },
        {
         "name": "opp_elo_n",
         "rawType": "float64",
         "type": "float"
        },
        {
         "name": "game_location",
         "rawType": "object",
         "type": "string"
        },
        {
         "name": "game_result",
         "rawType": "object",
         "type": "string"
        },
        {
         "name": "forecast",
         "rawType": "float64",
         "type": "float"
        },
        {
         "name": "notes",
         "rawType": "object",
         "type": "unknown"
        },
        {
         "name": "game_played",
         "rawType": "datetime64[ns]",
         "type": "datetime"
        }
       ],
       "ref": "e838bfcb-8892-4618-9a20-397a946b62e0",
       "rows": [
        [
         "9",
         "5",
         "194611020STB",
         "NBA",
         "0",
         "1947",
         "11/2/1946",
         "1",
         "0",
         "STB",
         "Bombers",
         "56",
         "1300.0",
         "1304.6908",
         "41.49202",
         "PIT",
         "Ironmen",
         "51",
         "1300.0",
         "1295.3092",
         "H",
         "W",
         "0.64006501",
         null,
         "1946-11-02 00:00:00"
        ],
        [
         "16",
         "9",
         "194611050DTF",
         "NBA",
         "1",
         "1947",
         "11/5/1946",
         "2",
         "0",
         "STB",
         "Bombers",
         "53",
         "1304.6908",
         "1312.8473",
         "42.347137",
         "DTF",
         "Falcons",
         "49",
         "1279.6189",
         "1271.4624",
         "A",
         "W",
         "0.39381099",
         null,
         "1946-11-05 00:00:00"
        ],
        [
         "22",
         "12",
         "194611070STB",
         "NBA",
         "0",
         "1947",
         "11/7/1946",
         "3",
         "0",
         "STB",
         "Bombers",
         "63",
         "1312.8473",
         "1302.5988",
         "41.272594",
         "NYK",
         "Knicks",
         "68",
         "1297.0712",
         "1307.3197",
         "H",
         "L",
         "0.66071028",
         null,
         "1946-11-07 00:00:00"
        ],
        [
         "32",
         "17",
         "194611090STB",
         "NBA",
         "0",
         "1947",
         "11/9/1946",
         "4",
         "0",
         "STB",
         "Bombers",
         "70",
         "1302.5988",
         "1305.7323",
         "41.60125",
         "WSC",
         "Capitols",
         "69",
         "1337.7448",
         "1334.6112",
         "H",
         "W",
         "0.59226328",
         null,
         "1946-11-09 00:00:00"
        ],
        [
         "47",
         "24",
         "194611140STB",
         "NBA",
         "0",
         "1947",
         "11/14/1946",
         "5",
         "0",
         "STB",
         "Bombers",
         "64",
         "1305.7323",
         "1308.4683",
         "41.888145",
         "BOS",
         "Celtics",
         "62",
         "1269.8861",
         "1267.1501",
         "H",
         "W",
         "0.6861096",
         null,
         "1946-11-14 00:00:00"
        ],
        [
         "58",
         "30",
         "194611160STB",
         "NBA",
         "0",
         "1947",
         "11/16/1946",
         "6",
         "0",
         "STB",
         "Bombers",
         "83",
         "1308.4683",
         "1315.3256",
         "42.606758",
         "CLR",
         "Rebels",
         "74",
         "1321.1034",
         "1314.2461",
         "H",
         "W",
         "0.62314355",
         null,
         "1946-11-16 00:00:00"
        ],
        [
         "67",
         "34",
         "194611190GSW",
         "NBA",
         "1",
         "1947",
         "11/19/1946",
         "7",
         "0",
         "STB",
         "Bombers",
         "66",
         "1315.3256",
         "1322.9524",
         "43.404839",
         "PHW",
         "Warriors",
         "63",
         "1308.6625",
         "1301.0356",
         "A",
         "W",
         "0.3688181",
         null,
         "1946-11-19 00:00:00"
        ],
        [
         "75",
         "38",
         "194611200WSC",
         "NBA",
         "1",
         "1947",
         "11/20/1946",
         "8",
         "0",
         "STB",
         "Bombers",
         "51",
         "1322.9524",
         "1319.3402",
         "43.027046",
         "WSC",
         "Capitols",
         "54",
         "1329.9454",
         "1333.5576",
         "A",
         "L",
         "0.35071415",
         null,
         "1946-11-20 00:00:00"
        ],
        [
         "77",
         "39",
         "194611210BOS",
         "NBA",
         "1",
         "1947",
         "11/21/1946",
         "9",
         "0",
         "STB",
         "Bombers",
         "65",
         "1319.3402",
         "1333.3109",
         "44.485733",
         "BOS",
         "Celtics",
         "53",
         "1271.9004",
         "1257.9297",
         "A",
         "W",
         "0.42493159",
         null,
         "1946-11-21 00:00:00"
        ],
        [
         "89",
         "45",
         "194611230PRO",
         "NBA",
         "1",
         "1947",
         "11/23/1946",
         "10",
         "0",
         "STB",
         "Bombers",
         "65",
         "1333.3109",
         "1342.2628",
         "45.415985",
         "PRO",
         "Steamrollers",
         "59",
         "1274.9045",
         "1265.9526",
         "A",
         "W",
         "0.44042629",
         null,
         "1946-11-23 00:00:00"
        ],
        [
         "106",
         "54",
         "194611270NYK",
         "NBA",
         "1",
         "1947",
         "11/27/1946",
         "11",
         "0",
         "STB",
         "Bombers",
         "60",
         "1342.2628",
         "1336.293",
         "44.796066",
         "NYK",
         "Knicks",
         "67",
         "1327.9469",
         "1333.9167",
         "A",
         "L",
         "0.37913126",
         null,
         "1946-11-27 00:00:00"
        ],
        [
         "114",
         "58",
         "194611280CHS",
         "NBA",
         "1",
         "1947",
         "11/28/1946",
         "12",
         "0",
         "STB",
         "Bombers",
         "75",
         "1336.293",
         "1343.3895",
         "45.532764",
         "CHS",
         "Stags",
         "72",
         "1306.1592",
         "1299.0626",
         "A",
         "W",
         "0.40078813",
         null,
         "1946-11-28 00:00:00"
        ],
        [
         "126",
         "64",
         "194611300STB",
         "NBA",
         "0",
         "1947",
         "11/30/1946",
         "13",
         "0",
         "STB",
         "Bombers",
         "60",
         "1343.3895",
         "1346.9624",
         "45.902576",
         "DTF",
         "Falcons",
         "57",
         "1333.9537",
         "1330.3809",
         "H",
         "W",
         "0.65248108",
         null,
         "1946-11-30 00:00:00"
        ],
        [
         "151",
         "76",
         "194612050STB",
         "NBA",
         "0",
         "1947",
         "12/5/1946",
         "14",
         "0",
         "STB",
         "Bombers",
         "66",
         "1346.9624",
         "1351.3506",
         "46.355671",
         "PIT",
         "Ironmen",
         "55",
         "1239.3546",
         "1234.9664",
         "H",
         "W",
         "0.76764953",
         null,
         "1946-12-05 00:00:00"
        ],
        [
         "158",
         "80",
         "194612070STB",
         "NBA",
         "0",
         "1947",
         "12/7/1946",
         "15",
         "0",
         "STB",
         "Bombers",
         "47",
         "1351.3506",
         "1334.5652",
         "44.61631",
         "PHW",
         "Warriors",
         "57",
         "1296.8409",
         "1313.6263",
         "H",
         "L",
         "0.7087723",
         null,
         "1946-12-07 00:00:00"
        ],
        [
         "168",
         "85",
         "194612100CLR",
         "NBA",
         "1",
         "1947",
         "12/10/1946",
         "16",
         "0",
         "STB",
         "Bombers",
         "62",
         "1334.5652",
         "1339.8789",
         "45.168663",
         "CLR",
         "Rebels",
         "61",
         "1315.6875",
         "1310.3738",
         "A",
         "W",
         "0.38533187",
         null,
         "1946-12-10 00:00:00"
        ],
        [
         "183",
         "92",
         "194612120STB",
         "NBA",
         "0",
         "1947",
         "12/12/1946",
         "17",
         "0",
         "STB",
         "Bombers",
         "68",
         "1339.8789",
         "1315.6809",
         "42.643974",
         "CHS",
         "Stags",
         "88",
         "1319.0311",
         "1343.2291",
         "H",
         "L",
         "0.66722387",
         null,
         "1946-12-12 00:00:00"
        ],
        [
         "196",
         "99",
         "194612150STB",
         "NBA",
         "0",
         "1947",
         "12/15/1946",
         "18",
         "0",
         "STB",
         "Bombers",
         "46",
         "1315.6809",
         "1304.6824",
         "41.491138",
         "TRH",
         "Huskies",
         "50",
         "1232.2332",
         "1243.2317",
         "H",
         "L",
         "0.74192733",
         null,
         "1946-12-15 00:00:00"
        ],
        [
         "199",
         "100",
         "194612160PIT",
         "NBA",
         "1",
         "1947",
         "12/16/1946",
         "19",
         "0",
         "STB",
         "Bombers",
         "66",
         "1304.6824",
         "1317.0259",
         "42.784809",
         "PIT",
         "Ironmen",
         "55",
         "1236.7992",
         "1224.4557",
         "A",
         "W",
         "0.45391136",
         null,
         "1946-12-16 00:00:00"
        ],
        [
         "207",
         "104",
         "194612180WSC",
         "NBA",
         "1",
         "1947",
         "12/18/1946",
         "20",
         "0",
         "STB",
         "Bombers",
         "47",
         "1317.0259",
         "1309.9017",
         "42.038425",
         "WSC",
         "Capitols",
         "68",
         "1414.1184",
         "1421.2426",
         "A",
         "L",
         "0.2433213",
         null,
         "1946-12-18 00:00:00"
        ],
        [
         "209",
         "105",
         "194612190BOS",
         "NBA",
         "1",
         "1947",
         "12/19/1946",
         "21",
         "0",
         "STB",
         "Bombers",
         "76",
         "1309.9017",
         "1315.0287",
         "42.575665",
         "BOS",
         "Celtics",
         "74",
         "1226.2948",
         "1221.1678",
         "A",
         "W",
         "0.47642595",
         null,
         "1946-12-19 00:00:00"
        ],
        [
         "225",
         "113",
         "194612220STB",
         "NBA",
         "0",
         "1947",
         "12/22/1946",
         "22",
         "0",
         "STB",
         "Bombers",
         "65",
         "1315.0287",
         "1320.0004",
         "43.096119",
         "BOS",
         "Celtics",
         "53",
         "1221.1678",
         "1216.1962",
         "H",
         "W",
         "0.75323719",
         null,
         "1946-12-22 00:00:00"
        ],
        [
         "233",
         "117",
         "194612260STB",
         "NBA",
         "0",
         "1947",
         "12/26/1946",
         "23",
         "0",
         "STB",
         "Bombers",
         "55",
         "1320.0004",
         "1323.7323",
         "43.486359",
         "DTF",
         "Falcons",
         "51",
         "1293.0409",
         "1289.309",
         "H",
         "W",
         "0.67498904",
         null,
         "1946-12-26 00:00:00"
        ],
        [
         "247",
         "124",
         "194612290STB",
         "NBA",
         "0",
         "1947",
         "12/29/1946",
         "24",
         "0",
         "STB",
         "Bombers",
         "75",
         "1323.7323",
         "1329.1732",
         "44.05447",
         "PHW",
         "Warriors",
         "68",
         "1316.9519",
         "1311.511",
         "H",
         "W",
         "0.64900702",
         null,
         "1946-12-29 00:00:00"
        ],
        [
         "253",
         "127",
         "194612310CLR",
         "NBA",
         "1",
         "1947",
         "12/31/1946",
         "25",
         "0",
         "STB",
         "Bombers",
         "68",
         "1329.1732",
         "1341.3654",
         "45.322914",
         "CLR",
         "Rebels",
         "59",
         "1294.8324",
         "1282.6403",
         "A",
         "W",
         "0.40661788",
         null,
         "1946-12-31 00:00:00"
        ],
        [
         "256",
         "129",
         "194701010CHS",
         "NBA",
         "1",
         "1947",
         "1/1/1947",
         "26",
         "0",
         "STB",
         "Bombers",
         "103",
         "1341.3654",
         "1359.0022",
         "47.142483",
         "CHS",
         "Stags",
         "90",
         "1353.0458",
         "1335.4089",
         "A",
         "W",
         "0.34459484",
         null,
         "1947-01-01 00:00:00"
        ],
        [
         "264",
         "133",
         "194701020STB",
         "NBA",
         "0",
         "1947",
         "1/2/1947",
         "27",
         "0",
         "STB",
         "Bombers",
         "66",
         "1359.0022",
         "1368.0355",
         "48.065411",
         "WSC",
         "Capitols",
         "57",
         "1439.1101",
         "1430.0768",
         "H",
         "W",
         "0.52859581",
         null,
         "1947-01-02 00:00:00"
        ],
        [
         "274",
         "138",
         "194701050STB",
         "NBA",
         "0",
         "1947",
         "1/5/1947",
         "28",
         "0",
         "STB",
         "Bombers",
         "57",
         "1368.0355",
         "1360.8228",
         "47.329033",
         "NYK",
         "Knicks",
         "59",
         "1343.4509",
         "1350.6637",
         "H",
         "L",
         "0.67198277",
         null,
         "1947-01-05 00:00:00"
        ],
        [
         "294",
         "148",
         "194701090STB",
         "NBA",
         "0",
         "1947",
         "1/9/1947",
         "29",
         "0",
         "STB",
         "Bombers",
         "84",
         "1360.8228",
         "1364.2407",
         "47.678539",
         "CHS",
         "Stags",
         "81",
         "1341.5894",
         "1338.1714",
         "H",
         "W",
         "0.66515726",
         null,
         "1947-01-09 00:00:00"
        ],
        [
         "307",
         "154",
         "194701120STB",
         "NBA",
         "0",
         "1947",
         "1/12/1947",
         "30",
         "0",
         "STB",
         "Bombers",
         "72",
         "1364.2407",
         "1368.2032",
         "48.082481",
         "PIT",
         "Ironmen",
         "59",
         "1216.5398",
         "1212.5773",
         "H",
         "W",
         "0.80625874",
         null,
         "1947-01-12 00:00:00"
        ],
        [
         "325",
         "163",
         "194701160STB",
         "NBA",
         "0",
         "1947",
         "1/16/1947",
         "31",
         "0",
         "STB",
         "Bombers",
         "59",
         "1368.2032",
         "1357.0986",
         "46.947147",
         "CLR",
         "Rebels",
         "63",
         "1280.7762",
         "1291.8809",
         "H",
         "L",
         "0.7462889",
         null,
         "1947-01-16 00:00:00"
        ],
        [
         "334",
         "168",
         "194701190STB",
         "NBA",
         "0",
         "1947",
         "1/19/1947",
         "32",
         "0",
         "STB",
         "Bombers",
         "69",
         "1357.0986",
         "1363.3656",
         "47.589146",
         "PRO",
         "Steamrollers",
         "53",
         "1271.7136",
         "1265.4467",
         "H",
         "W",
         "0.74405682",
         null,
         "1947-01-19 00:00:00"
        ],
        [
         "343",
         "172",
         "194701210TRH",
         "NBA",
         "1",
         "1947",
         "1/21/1947",
         "33",
         "0",
         "STB",
         "Bombers",
         "71",
         "1363.3656",
         "1358.7234",
         "47.113892",
         "TRH",
         "Huskies",
         "72",
         "1224.124",
         "1228.7662",
         "A",
         "L",
         "0.55623424",
         null,
         "1947-01-21 00:00:00"
        ],
        [
         "366",
         "184",
         "194701260STB",
         "NBA",
         "0",
         "1947",
         "1/26/1947",
         "34",
         "0",
         "STB",
         "Bombers",
         "71",
         "1358.7234",
         "1361.5421",
         "47.402672",
         "DTF",
         "Falcons",
         "66",
         "1252.1123",
         "1249.2936",
         "H",
         "W",
         "0.76662463",
         null,
         "1947-01-26 00:00:00"
        ],
        [
         "387",
         "194",
         "194701300STB",
         "NBA",
         "0",
         "1947",
         "1/30/1947",
         "35",
         "0",
         "STB",
         "Bombers",
         "70",
         "1361.5421",
         "1342.0918",
         "45.398254",
         "PRO",
         "Steamrollers",
         "81",
         "1271.6172",
         "1291.0675",
         "H",
         "L",
         "0.7490018",
         null,
         "1947-01-30 00:00:00"
        ],
        [
         "395",
         "198",
         "194702010STB",
         "NBA",
         "0",
         "1947",
         "2/1/1947",
         "36",
         "0",
         "STB",
         "Bombers",
         "70",
         "1342.0918",
         "1352.7769",
         "46.502655",
         "CLR",
         "Rebels",
         "48",
         "1322.4463",
         "1311.7612",
         "H",
         "W",
         "0.66568542",
         null,
         "1947-02-01 00:00:00"
        ],
        [
         "404",
         "203",
         "194702030PIT",
         "NBA",
         "1",
         "1947",
         "2/3/1947",
         "37",
         "0",
         "STB",
         "Bombers",
         "63",
         "1352.7769",
         "1344.474",
         "45.645096",
         "PIT",
         "Ironmen",
         "68",
         "1205.5123",
         "1213.8152",
         "A",
         "L",
         "0.56760263",
         null,
         "1947-02-03 00:00:00"
        ],
        [
         "411",
         "206",
         "194702050NYK",
         "NBA",
         "1",
         "1947",
         "2/5/1947",
         "38",
         "0",
         "STB",
         "Bombers",
         "71",
         "1344.474",
         "1365.791",
         "47.836739",
         "NYK",
         "Knicks",
         "46",
         "1274.2264",
         "1252.9094",
         "A",
         "W",
         "0.45728713",
         null,
         "1947-02-05 00:00:00"
        ],
        [
         "421",
         "211",
         "194702060PRO",
         "NBA",
         "1",
         "1947",
         "2/6/1947",
         "39",
         "0",
         "STB",
         "Bombers",
         "73",
         "1365.791",
         "1375.8105",
         "48.853951",
         "PRO",
         "Steamrollers",
         "65",
         "1293.3701",
         "1283.3506",
         "A",
         "W",
         "0.46039361",
         null,
         "1947-02-06 00:00:00"
        ],
        [
         "429",
         "215",
         "194702080STB",
         "NBA",
         "0",
         "1947",
         "2/8/1947",
         "40",
         "0",
         "STB",
         "Bombers",
         "65",
         "1375.8105",
         "1370.1735",
         "48.282803",
         "WSC",
         "Capitols",
         "68",
         "1473.5576",
         "1479.1947",
         "H",
         "L",
         "0.50324219",
         null,
         "1947-02-08 00:00:00"
        ],
        [
         "439",
         "220",
         "194702110GSW",
         "NBA",
         "1",
         "1947",
         "2/11/1947",
         "41",
         "0",
         "STB",
         "Bombers",
         "59",
         "1370.1735",
         "1360.4482",
         "47.29068",
         "PHW",
         "Warriors",
         "75",
         "1361.7233",
         "1371.4485",
         "A",
         "L",
         "0.37121618",
         null,
         "1947-02-11 00:00:00"
        ],
        [
         "447",
         "224",
         "194702130BOS",
         "NBA",
         "1",
         "1947",
         "2/13/1947",
         "42",
         "0",
         "STB",
         "Bombers",
         "54",
         "1360.4482",
         "1348.7775",
         "46.090141",
         "BOS",
         "Celtics",
         "64",
         "1227.3872",
         "1239.058",
         "A",
         "L",
         "0.54743552",
         null,
         "1947-02-13 00:00:00"
        ],
        [
         "466",
         "234",
         "194702160STB",
         "NBA",
         "0",
         "1947",
         "2/16/1947",
         "43",
         "0",
         "STB",
         "Bombers",
         "80",
         "1348.7775",
         "1353.776",
         "46.605537",
         "TRH",
         "Huskies",
         "64",
         "1219.0802",
         "1214.0817",
         "H",
         "W",
         "0.78955477",
         null,
         "1947-02-16 00:00:00"
        ],
        [
         "472",
         "237",
         "194702180TRH",
         "NBA",
         "1",
         "1947",
         "2/18/1947",
         "44",
         "0",
         "STB",
         "Bombers",
         "57",
         "1353.776",
         "1343.3323",
         "45.526833",
         "TRH",
         "Huskies",
         "65",
         "1214.0817",
         "1224.5254",
         "A",
         "L",
         "0.55687749",
         null,
         "1947-02-18 00:00:00"
        ],
        [
         "488",
         "245",
         "194702210STB",
         "NBA",
         "0",
         "1947",
         "2/21/1947",
         "45",
         "0",
         "STB",
         "Bombers",
         "65",
         "1343.3323",
         "1349.1321",
         "46.126762",
         "CHS",
         "Stags",
         "60",
         "1393.3439",
         "1387.5441",
         "H",
         "W",
         "0.57144678",
         null,
         "1947-02-21 00:00:00"
        ],
        [
         "504",
         "253",
         "194702230STB",
         "NBA",
         "0",
         "1947",
         "2/23/1947",
         "46",
         "0",
         "STB",
         "Bombers",
         "71",
         "1349.1321",
         "1354.254",
         "46.654736",
         "PHW",
         "Warriors",
         "66",
         "1369.3383",
         "1364.2163",
         "H",
         "W",
         "0.61285526",
         null,
         "1947-02-23 00:00:00"
        ],
        [
         "510",
         "256",
         "194702250CLR",
         "NBA",
         "1",
         "1947",
         "2/25/1947",
         "47",
         "0",
         "STB",
         "Bombers",
         "96",
         "1354.254",
         "1372.9569",
         "48.565201",
         "CLR",
         "Rebels",
         "76",
         "1291.7598",
         "1273.0569",
         "A",
         "W",
         "0.44623357",
         null,
         "1947-02-25 00:00:00"
        ],
        [
         "519",
         "260",
         "194702260GSW",
         "NBA",
         "1",
         "1947",
         "2/26/1947",
         "48",
         "0",
         "STB",
         "Bombers",
         "65",
         "1372.9569",
         "1365.8741",
         "47.845215",
         "PHW",
         "Warriors",
         "75",
         "1367.5853",
         "1374.6681",
         "A",
         "L",
         "0.36708909",
         null,
         "1947-02-26 00:00:00"
        ],
        [
         "534",
         "268",
         "194703020CHS",
         "NBA",
         "1",
         "1947",
         "3/2/1947",
         "49",
         "0",
         "STB",
         "Bombers",
         "86",
         "1365.8741",
         "1359.1602",
         "47.15868",
         "CHS",
         "Stags",
         "98",
         "1397.6844",
         "1404.3984",
         "A",
         "L",
         "0.31891531",
         null,
         "1947-03-02 00:00:00"
        ],
        [
         "543",
         "272",
         "194703030STB",
         "NBA",
         "0",
         "1947",
         "3/3/1947",
         "50",
         "0",
         "STB",
         "Bombers",
         "71",
         "1359.1602",
         "1360.9717",
         "47.34428",
         "PRO",
         "Steamrollers",
         "70",
         "1274.8582",
         "1273.0466",
         "H",
         "W",
         "0.74286777",
         null,
         "1947-03-03 00:00:00"
        ]
       ],
       "shape": {
        "columns": 24,
        "rows": 249
       }
      },
      "text/html": [
       "<div>\n",
       "<style scoped>\n",
       "    .dataframe tbody tr th:only-of-type {\n",
       "        vertical-align: middle;\n",
       "    }\n",
       "\n",
       "    .dataframe tbody tr th {\n",
       "        vertical-align: top;\n",
       "    }\n",
       "\n",
       "    .dataframe thead th {\n",
       "        text-align: right;\n",
       "    }\n",
       "</style>\n",
       "<table border=\"1\" class=\"dataframe\">\n",
       "  <thead>\n",
       "    <tr style=\"text-align: right;\">\n",
       "      <th></th>\n",
       "      <th>gameorder</th>\n",
       "      <th>game_id</th>\n",
       "      <th>lg_id</th>\n",
       "      <th>_iscopy</th>\n",
       "      <th>year_id</th>\n",
       "      <th>date_game</th>\n",
       "      <th>seasongame</th>\n",
       "      <th>is_playoffs</th>\n",
       "      <th>team_id</th>\n",
       "      <th>fran_id</th>\n",
       "      <th>pts</th>\n",
       "      <th>elo_i</th>\n",
       "      <th>elo_n</th>\n",
       "      <th>win_equiv</th>\n",
       "      <th>opp_id</th>\n",
       "      <th>opp_fran</th>\n",
       "      <th>opp_pts</th>\n",
       "      <th>opp_elo_i</th>\n",
       "      <th>opp_elo_n</th>\n",
       "      <th>game_location</th>\n",
       "      <th>game_result</th>\n",
       "      <th>forecast</th>\n",
       "      <th>notes</th>\n",
       "      <th>game_played</th>\n",
       "    </tr>\n",
       "  </thead>\n",
       "  <tbody>\n",
       "    <tr>\n",
       "      <th>9</th>\n",
       "      <td>5</td>\n",
       "      <td>194611020STB</td>\n",
       "      <td>NBA</td>\n",
       "      <td>0</td>\n",
       "      <td>1947</td>\n",
       "      <td>11/2/1946</td>\n",
       "      <td>1</td>\n",
       "      <td>0</td>\n",
       "      <td>STB</td>\n",
       "      <td>Bombers</td>\n",
       "      <td>56</td>\n",
       "      <td>1300.00</td>\n",
       "      <td>1304.69</td>\n",
       "      <td>41.49</td>\n",
       "      <td>PIT</td>\n",
       "      <td>Ironmen</td>\n",
       "      <td>51</td>\n",
       "      <td>1300.00</td>\n",
       "      <td>1295.31</td>\n",
       "      <td>H</td>\n",
       "      <td>W</td>\n",
       "      <td>0.64</td>\n",
       "      <td>NaN</td>\n",
       "      <td>1946-11-02</td>\n",
       "    </tr>\n",
       "    <tr>\n",
       "      <th>16</th>\n",
       "      <td>9</td>\n",
       "      <td>194611050DTF</td>\n",
       "      <td>NBA</td>\n",
       "      <td>1</td>\n",
       "      <td>1947</td>\n",
       "      <td>11/5/1946</td>\n",
       "      <td>2</td>\n",
       "      <td>0</td>\n",
       "      <td>STB</td>\n",
       "      <td>Bombers</td>\n",
       "      <td>53</td>\n",
       "      <td>1304.69</td>\n",
       "      <td>1312.85</td>\n",
       "      <td>42.35</td>\n",
       "      <td>DTF</td>\n",
       "      <td>Falcons</td>\n",
       "      <td>49</td>\n",
       "      <td>1279.62</td>\n",
       "      <td>1271.46</td>\n",
       "      <td>A</td>\n",
       "      <td>W</td>\n",
       "      <td>0.39</td>\n",
       "      <td>NaN</td>\n",
       "      <td>1946-11-05</td>\n",
       "    </tr>\n",
       "    <tr>\n",
       "      <th>22</th>\n",
       "      <td>12</td>\n",
       "      <td>194611070STB</td>\n",
       "      <td>NBA</td>\n",
       "      <td>0</td>\n",
       "      <td>1947</td>\n",
       "      <td>11/7/1946</td>\n",
       "      <td>3</td>\n",
       "      <td>0</td>\n",
       "      <td>STB</td>\n",
       "      <td>Bombers</td>\n",
       "      <td>63</td>\n",
       "      <td>1312.85</td>\n",
       "      <td>1302.60</td>\n",
       "      <td>41.27</td>\n",
       "      <td>NYK</td>\n",
       "      <td>Knicks</td>\n",
       "      <td>68</td>\n",
       "      <td>1297.07</td>\n",
       "      <td>1307.32</td>\n",
       "      <td>H</td>\n",
       "      <td>L</td>\n",
       "      <td>0.66</td>\n",
       "      <td>NaN</td>\n",
       "      <td>1946-11-07</td>\n",
       "    </tr>\n",
       "    <tr>\n",
       "      <th>32</th>\n",
       "      <td>17</td>\n",
       "      <td>194611090STB</td>\n",
       "      <td>NBA</td>\n",
       "      <td>0</td>\n",
       "      <td>1947</td>\n",
       "      <td>11/9/1946</td>\n",
       "      <td>4</td>\n",
       "      <td>0</td>\n",
       "      <td>STB</td>\n",
       "      <td>Bombers</td>\n",
       "      <td>70</td>\n",
       "      <td>1302.60</td>\n",
       "      <td>1305.73</td>\n",
       "      <td>41.60</td>\n",
       "      <td>WSC</td>\n",
       "      <td>Capitols</td>\n",
       "      <td>69</td>\n",
       "      <td>1337.74</td>\n",
       "      <td>1334.61</td>\n",
       "      <td>H</td>\n",
       "      <td>W</td>\n",
       "      <td>0.59</td>\n",
       "      <td>NaN</td>\n",
       "      <td>1946-11-09</td>\n",
       "    </tr>\n",
       "    <tr>\n",
       "      <th>47</th>\n",
       "      <td>24</td>\n",
       "      <td>194611140STB</td>\n",
       "      <td>NBA</td>\n",
       "      <td>0</td>\n",
       "      <td>1947</td>\n",
       "      <td>11/14/1946</td>\n",
       "      <td>5</td>\n",
       "      <td>0</td>\n",
       "      <td>STB</td>\n",
       "      <td>Bombers</td>\n",
       "      <td>64</td>\n",
       "      <td>1305.73</td>\n",
       "      <td>1308.47</td>\n",
       "      <td>41.89</td>\n",
       "      <td>BOS</td>\n",
       "      <td>Celtics</td>\n",
       "      <td>62</td>\n",
       "      <td>1269.89</td>\n",
       "      <td>1267.15</td>\n",
       "      <td>H</td>\n",
       "      <td>W</td>\n",
       "      <td>0.69</td>\n",
       "      <td>NaN</td>\n",
       "      <td>1946-11-14</td>\n",
       "    </tr>\n",
       "    <tr>\n",
       "      <th>...</th>\n",
       "      <td>...</td>\n",
       "      <td>...</td>\n",
       "      <td>...</td>\n",
       "      <td>...</td>\n",
       "      <td>...</td>\n",
       "      <td>...</td>\n",
       "      <td>...</td>\n",
       "      <td>...</td>\n",
       "      <td>...</td>\n",
       "      <td>...</td>\n",
       "      <td>...</td>\n",
       "      <td>...</td>\n",
       "      <td>...</td>\n",
       "      <td>...</td>\n",
       "      <td>...</td>\n",
       "      <td>...</td>\n",
       "      <td>...</td>\n",
       "      <td>...</td>\n",
       "      <td>...</td>\n",
       "      <td>...</td>\n",
       "      <td>...</td>\n",
       "      <td>...</td>\n",
       "      <td>...</td>\n",
       "      <td>...</td>\n",
       "    </tr>\n",
       "    <tr>\n",
       "      <th>2958</th>\n",
       "      <td>1480</td>\n",
       "      <td>195003120ROC</td>\n",
       "      <td>NBA</td>\n",
       "      <td>1</td>\n",
       "      <td>1950</td>\n",
       "      <td>3/12/1950</td>\n",
       "      <td>64</td>\n",
       "      <td>0</td>\n",
       "      <td>STB</td>\n",
       "      <td>Bombers</td>\n",
       "      <td>72</td>\n",
       "      <td>1366.78</td>\n",
       "      <td>1363.65</td>\n",
       "      <td>31.96</td>\n",
       "      <td>ROC</td>\n",
       "      <td>Kings</td>\n",
       "      <td>99</td>\n",
       "      <td>1647.29</td>\n",
       "      <td>1650.42</td>\n",
       "      <td>A</td>\n",
       "      <td>L</td>\n",
       "      <td>0.10</td>\n",
       "      <td>NaN</td>\n",
       "      <td>1950-03-12</td>\n",
       "    </tr>\n",
       "    <tr>\n",
       "      <th>2964</th>\n",
       "      <td>1483</td>\n",
       "      <td>195003140BOS</td>\n",
       "      <td>NBA</td>\n",
       "      <td>1</td>\n",
       "      <td>1950</td>\n",
       "      <td>3/14/1950</td>\n",
       "      <td>65</td>\n",
       "      <td>0</td>\n",
       "      <td>STB</td>\n",
       "      <td>Bombers</td>\n",
       "      <td>86</td>\n",
       "      <td>1363.65</td>\n",
       "      <td>1378.48</td>\n",
       "      <td>33.45</td>\n",
       "      <td>BOS</td>\n",
       "      <td>Celtics</td>\n",
       "      <td>76</td>\n",
       "      <td>1372.76</td>\n",
       "      <td>1357.94</td>\n",
       "      <td>A</td>\n",
       "      <td>W</td>\n",
       "      <td>0.35</td>\n",
       "      <td>NaN</td>\n",
       "      <td>1950-03-14</td>\n",
       "    </tr>\n",
       "    <tr>\n",
       "      <th>2984</th>\n",
       "      <td>1493</td>\n",
       "      <td>195003160STB</td>\n",
       "      <td>NBA</td>\n",
       "      <td>0</td>\n",
       "      <td>1950</td>\n",
       "      <td>3/16/1950</td>\n",
       "      <td>66</td>\n",
       "      <td>0</td>\n",
       "      <td>STB</td>\n",
       "      <td>Bombers</td>\n",
       "      <td>71</td>\n",
       "      <td>1378.48</td>\n",
       "      <td>1384.27</td>\n",
       "      <td>34.04</td>\n",
       "      <td>BLB</td>\n",
       "      <td>Baltimore</td>\n",
       "      <td>63</td>\n",
       "      <td>1368.74</td>\n",
       "      <td>1362.95</td>\n",
       "      <td>H</td>\n",
       "      <td>W</td>\n",
       "      <td>0.65</td>\n",
       "      <td>NaN</td>\n",
       "      <td>1950-03-16</td>\n",
       "    </tr>\n",
       "    <tr>\n",
       "      <th>2989</th>\n",
       "      <td>1495</td>\n",
       "      <td>195003170CHS</td>\n",
       "      <td>NBA</td>\n",
       "      <td>1</td>\n",
       "      <td>1950</td>\n",
       "      <td>3/17/1950</td>\n",
       "      <td>67</td>\n",
       "      <td>0</td>\n",
       "      <td>STB</td>\n",
       "      <td>Bombers</td>\n",
       "      <td>85</td>\n",
       "      <td>1384.27</td>\n",
       "      <td>1411.27</td>\n",
       "      <td>36.82</td>\n",
       "      <td>CHS</td>\n",
       "      <td>Stags</td>\n",
       "      <td>69</td>\n",
       "      <td>1510.53</td>\n",
       "      <td>1483.54</td>\n",
       "      <td>A</td>\n",
       "      <td>W</td>\n",
       "      <td>0.21</td>\n",
       "      <td>at Toledo OH</td>\n",
       "      <td>1950-03-17</td>\n",
       "    </tr>\n",
       "    <tr>\n",
       "      <th>3006</th>\n",
       "      <td>1504</td>\n",
       "      <td>195003190STB</td>\n",
       "      <td>NBA</td>\n",
       "      <td>0</td>\n",
       "      <td>1950</td>\n",
       "      <td>3/19/1950</td>\n",
       "      <td>68</td>\n",
       "      <td>0</td>\n",
       "      <td>STB</td>\n",
       "      <td>Bombers</td>\n",
       "      <td>64</td>\n",
       "      <td>1411.27</td>\n",
       "      <td>1395.82</td>\n",
       "      <td>35.22</td>\n",
       "      <td>CHS</td>\n",
       "      <td>Stags</td>\n",
       "      <td>80</td>\n",
       "      <td>1484.94</td>\n",
       "      <td>1500.39</td>\n",
       "      <td>H</td>\n",
       "      <td>L</td>\n",
       "      <td>0.54</td>\n",
       "      <td>NaN</td>\n",
       "      <td>1950-03-19</td>\n",
       "    </tr>\n",
       "  </tbody>\n",
       "</table>\n",
       "<p>249 rows × 24 columns</p>\n",
       "</div>"
      ],
      "text/plain": [
       "      gameorder       game_id lg_id  _iscopy  year_id   date_game  seasongame  \\\n",
       "9             5  194611020STB   NBA        0     1947   11/2/1946           1   \n",
       "16            9  194611050DTF   NBA        1     1947   11/5/1946           2   \n",
       "22           12  194611070STB   NBA        0     1947   11/7/1946           3   \n",
       "32           17  194611090STB   NBA        0     1947   11/9/1946           4   \n",
       "47           24  194611140STB   NBA        0     1947  11/14/1946           5   \n",
       "...         ...           ...   ...      ...      ...         ...         ...   \n",
       "2958       1480  195003120ROC   NBA        1     1950   3/12/1950          64   \n",
       "2964       1483  195003140BOS   NBA        1     1950   3/14/1950          65   \n",
       "2984       1493  195003160STB   NBA        0     1950   3/16/1950          66   \n",
       "2989       1495  195003170CHS   NBA        1     1950   3/17/1950          67   \n",
       "3006       1504  195003190STB   NBA        0     1950   3/19/1950          68   \n",
       "\n",
       "      is_playoffs team_id  fran_id  pts    elo_i    elo_n  win_equiv opp_id  \\\n",
       "9               0     STB  Bombers   56  1300.00  1304.69      41.49    PIT   \n",
       "16              0     STB  Bombers   53  1304.69  1312.85      42.35    DTF   \n",
       "22              0     STB  Bombers   63  1312.85  1302.60      41.27    NYK   \n",
       "32              0     STB  Bombers   70  1302.60  1305.73      41.60    WSC   \n",
       "47              0     STB  Bombers   64  1305.73  1308.47      41.89    BOS   \n",
       "...           ...     ...      ...  ...      ...      ...        ...    ...   \n",
       "2958            0     STB  Bombers   72  1366.78  1363.65      31.96    ROC   \n",
       "2964            0     STB  Bombers   86  1363.65  1378.48      33.45    BOS   \n",
       "2984            0     STB  Bombers   71  1378.48  1384.27      34.04    BLB   \n",
       "2989            0     STB  Bombers   85  1384.27  1411.27      36.82    CHS   \n",
       "3006            0     STB  Bombers   64  1411.27  1395.82      35.22    CHS   \n",
       "\n",
       "       opp_fran  opp_pts  opp_elo_i  opp_elo_n game_location game_result  \\\n",
       "9       Ironmen       51    1300.00    1295.31             H           W   \n",
       "16      Falcons       49    1279.62    1271.46             A           W   \n",
       "22       Knicks       68    1297.07    1307.32             H           L   \n",
       "32     Capitols       69    1337.74    1334.61             H           W   \n",
       "47      Celtics       62    1269.89    1267.15             H           W   \n",
       "...         ...      ...        ...        ...           ...         ...   \n",
       "2958      Kings       99    1647.29    1650.42             A           L   \n",
       "2964    Celtics       76    1372.76    1357.94             A           W   \n",
       "2984  Baltimore       63    1368.74    1362.95             H           W   \n",
       "2989      Stags       69    1510.53    1483.54             A           W   \n",
       "3006      Stags       80    1484.94    1500.39             H           L   \n",
       "\n",
       "      forecast         notes game_played  \n",
       "9         0.64           NaN  1946-11-02  \n",
       "16        0.39           NaN  1946-11-05  \n",
       "22        0.66           NaN  1946-11-07  \n",
       "32        0.59           NaN  1946-11-09  \n",
       "47        0.69           NaN  1946-11-14  \n",
       "...        ...           ...         ...  \n",
       "2958      0.10           NaN  1950-03-12  \n",
       "2964      0.35           NaN  1950-03-14  \n",
       "2984      0.65           NaN  1950-03-16  \n",
       "2989      0.21  at Toledo OH  1950-03-17  \n",
       "3006      0.54           NaN  1950-03-19  \n",
       "\n",
       "[249 rows x 24 columns]"
      ]
     },
     "execution_count": 7,
     "metadata": {},
     "output_type": "execute_result"
    }
   ],
   "source": [
    "df[df[\"fran_id\"].str.startswith('Bom')]"
   ]
  },
  {
   "cell_type": "code",
   "execution_count": 8,
   "metadata": {},
   "outputs": [
    {
     "name": "stdout",
     "output_type": "stream",
     "text": [
      "Index(['gameorder', 'game_id', 'lg_id', '_iscopy', 'year_id', 'date_game',\n",
      "       'seasongame', 'is_playoffs', 'team_id', 'fran_id', 'pts', 'elo_i',\n",
      "       'elo_n', 'win_equiv', 'opp_id', 'opp_fran', 'opp_pts', 'opp_elo_i',\n",
      "       'opp_elo_n', 'game_location', 'game_result', 'forecast', 'notes',\n",
      "       'game_played'],\n",
      "      dtype='object')\n"
     ]
    },
    {
     "data": {
      "text/plain": [
       "(5424, 24)"
      ]
     },
     "execution_count": 8,
     "metadata": {},
     "output_type": "execute_result"
    }
   ],
   "source": [
    "print(df.columns)\n",
    "df[df['notes'].notnull()].shape"
   ]
  },
  {
   "cell_type": "code",
   "execution_count": 9,
   "metadata": {},
   "outputs": [
    {
     "data": {
      "application/vnd.microsoft.datawrangler.viewer.v0+json": {
       "columns": [
        {
         "name": "index",
         "rawType": "int64",
         "type": "integer"
        },
        {
         "name": "gameorder",
         "rawType": "int64",
         "type": "integer"
        },
        {
         "name": "game_id",
         "rawType": "object",
         "type": "string"
        },
        {
         "name": "lg_id",
         "rawType": "object",
         "type": "string"
        },
        {
         "name": "_iscopy",
         "rawType": "int64",
         "type": "integer"
        },
        {
         "name": "year_id",
         "rawType": "int64",
         "type": "integer"
        },
        {
         "name": "date_game",
         "rawType": "object",
         "type": "string"
        },
        {
         "name": "seasongame",
         "rawType": "int64",
         "type": "integer"
        },
        {
         "name": "is_playoffs",
         "rawType": "int64",
         "type": "integer"
        },
        {
         "name": "team_id",
         "rawType": "object",
         "type": "string"
        },
        {
         "name": "fran_id",
         "rawType": "object",
         "type": "string"
        },
        {
         "name": "pts",
         "rawType": "int64",
         "type": "integer"
        },
        {
         "name": "elo_i",
         "rawType": "float64",
         "type": "float"
        },
        {
         "name": "elo_n",
         "rawType": "float64",
         "type": "float"
        },
        {
         "name": "win_equiv",
         "rawType": "float64",
         "type": "float"
        },
        {
         "name": "opp_id",
         "rawType": "object",
         "type": "string"
        },
        {
         "name": "opp_fran",
         "rawType": "object",
         "type": "string"
        },
        {
         "name": "opp_pts",
         "rawType": "int64",
         "type": "integer"
        },
        {
         "name": "opp_elo_i",
         "rawType": "float64",
         "type": "float"
        },
        {
         "name": "opp_elo_n",
         "rawType": "float64",
         "type": "float"
        },
        {
         "name": "game_location",
         "rawType": "object",
         "type": "string"
        },
        {
         "name": "game_result",
         "rawType": "object",
         "type": "string"
        },
        {
         "name": "forecast",
         "rawType": "float64",
         "type": "float"
        },
        {
         "name": "notes",
         "rawType": "object",
         "type": "string"
        },
        {
         "name": "game_played",
         "rawType": "datetime64[ns]",
         "type": "datetime"
        }
       ],
       "ref": "5711ea0d-0d7f-43a5-add7-9da7d59d0487",
       "rows": [
        [
         "68901",
         "34451",
         "199205030LAC",
         "NBA",
         "0",
         "1992",
         "5/3/1992",
         "86",
         "1",
         "LAC",
         "Clippers",
         "115",
         "1546.9009",
         "1556.0005",
         "47.888252",
         "UTA",
         "Jazz",
         "107",
         "1647.5092",
         "1638.4095",
         "H",
         "W",
         "0.49912462",
         "at Anaheim, CA (Anaheim Convention Center)",
         "1992-05-03 00:00:00"
        ],
        [
         "68903",
         "34452",
         "199205030LAL",
         "NBA",
         "0",
         "1992",
         "5/3/1992",
         "86",
         "1",
         "LAL",
         "Lakers",
         "76",
         "1489.646",
         "1474.3994",
         "39.395412",
         "POR",
         "Trailblazers",
         "102",
         "1655.121",
         "1670.3677",
         "H",
         "L",
         "0.40687376",
         "at Las Vegas, NV",
         "1992-05-03 00:00:00"
        ]
       ],
       "shape": {
        "columns": 24,
        "rows": 2
       }
      },
      "text/html": [
       "<div>\n",
       "<style scoped>\n",
       "    .dataframe tbody tr th:only-of-type {\n",
       "        vertical-align: middle;\n",
       "    }\n",
       "\n",
       "    .dataframe tbody tr th {\n",
       "        vertical-align: top;\n",
       "    }\n",
       "\n",
       "    .dataframe thead th {\n",
       "        text-align: right;\n",
       "    }\n",
       "</style>\n",
       "<table border=\"1\" class=\"dataframe\">\n",
       "  <thead>\n",
       "    <tr style=\"text-align: right;\">\n",
       "      <th></th>\n",
       "      <th>gameorder</th>\n",
       "      <th>game_id</th>\n",
       "      <th>lg_id</th>\n",
       "      <th>_iscopy</th>\n",
       "      <th>year_id</th>\n",
       "      <th>date_game</th>\n",
       "      <th>seasongame</th>\n",
       "      <th>is_playoffs</th>\n",
       "      <th>team_id</th>\n",
       "      <th>fran_id</th>\n",
       "      <th>pts</th>\n",
       "      <th>elo_i</th>\n",
       "      <th>elo_n</th>\n",
       "      <th>win_equiv</th>\n",
       "      <th>opp_id</th>\n",
       "      <th>opp_fran</th>\n",
       "      <th>opp_pts</th>\n",
       "      <th>opp_elo_i</th>\n",
       "      <th>opp_elo_n</th>\n",
       "      <th>game_location</th>\n",
       "      <th>game_result</th>\n",
       "      <th>forecast</th>\n",
       "      <th>notes</th>\n",
       "      <th>game_played</th>\n",
       "    </tr>\n",
       "  </thead>\n",
       "  <tbody>\n",
       "    <tr>\n",
       "      <th>68901</th>\n",
       "      <td>34451</td>\n",
       "      <td>199205030LAC</td>\n",
       "      <td>NBA</td>\n",
       "      <td>0</td>\n",
       "      <td>1992</td>\n",
       "      <td>5/3/1992</td>\n",
       "      <td>86</td>\n",
       "      <td>1</td>\n",
       "      <td>LAC</td>\n",
       "      <td>Clippers</td>\n",
       "      <td>115</td>\n",
       "      <td>1546.90</td>\n",
       "      <td>1556.0</td>\n",
       "      <td>47.89</td>\n",
       "      <td>UTA</td>\n",
       "      <td>Jazz</td>\n",
       "      <td>107</td>\n",
       "      <td>1647.51</td>\n",
       "      <td>1638.41</td>\n",
       "      <td>H</td>\n",
       "      <td>W</td>\n",
       "      <td>0.50</td>\n",
       "      <td>at Anaheim, CA (Anaheim Convention Center)</td>\n",
       "      <td>1992-05-03</td>\n",
       "    </tr>\n",
       "    <tr>\n",
       "      <th>68903</th>\n",
       "      <td>34452</td>\n",
       "      <td>199205030LAL</td>\n",
       "      <td>NBA</td>\n",
       "      <td>0</td>\n",
       "      <td>1992</td>\n",
       "      <td>5/3/1992</td>\n",
       "      <td>86</td>\n",
       "      <td>1</td>\n",
       "      <td>LAL</td>\n",
       "      <td>Lakers</td>\n",
       "      <td>76</td>\n",
       "      <td>1489.65</td>\n",
       "      <td>1474.4</td>\n",
       "      <td>39.40</td>\n",
       "      <td>POR</td>\n",
       "      <td>Trailblazers</td>\n",
       "      <td>102</td>\n",
       "      <td>1655.12</td>\n",
       "      <td>1670.37</td>\n",
       "      <td>H</td>\n",
       "      <td>L</td>\n",
       "      <td>0.41</td>\n",
       "      <td>at Las Vegas, NV</td>\n",
       "      <td>1992-05-03</td>\n",
       "    </tr>\n",
       "  </tbody>\n",
       "</table>\n",
       "</div>"
      ],
      "text/plain": [
       "       gameorder       game_id lg_id  _iscopy  year_id date_game  seasongame  \\\n",
       "68901      34451  199205030LAC   NBA        0     1992  5/3/1992          86   \n",
       "68903      34452  199205030LAL   NBA        0     1992  5/3/1992          86   \n",
       "\n",
       "       is_playoffs team_id   fran_id  pts    elo_i   elo_n  win_equiv opp_id  \\\n",
       "68901            1     LAC  Clippers  115  1546.90  1556.0      47.89    UTA   \n",
       "68903            1     LAL    Lakers   76  1489.65  1474.4      39.40    POR   \n",
       "\n",
       "           opp_fran  opp_pts  opp_elo_i  opp_elo_n game_location game_result  \\\n",
       "68901          Jazz      107    1647.51    1638.41             H           W   \n",
       "68903  Trailblazers      102    1655.12    1670.37             H           L   \n",
       "\n",
       "       forecast                                       notes game_played  \n",
       "68901      0.50  at Anaheim, CA (Anaheim Convention Center)  1992-05-03  \n",
       "68903      0.41                            at Las Vegas, NV  1992-05-03  "
      ]
     },
     "execution_count": 9,
     "metadata": {},
     "output_type": "execute_result"
    }
   ],
   "source": [
    "df[\n",
    "    (df['_iscopy'] == 0) &\n",
    "    (df['pts'] > 100) &\n",
    "    (df['opp_pts'] > 100) &\n",
    "    (df['team_id'] == 'BLB') &\n",
    "    (df['game_result'] == 'W')\n",
    "]\n",
    "\n",
    "df[\n",
    "    (df['_iscopy'] == 0) &\n",
    "    (df['team_id'].str.startswith('LA')) &\n",
    "    (df['year_id'] == 1992) &\n",
    "    (df['notes'].notnull())\n",
    "]"
   ]
  },
  {
   "cell_type": "code",
   "execution_count": 10,
   "metadata": {},
   "outputs": [
    {
     "name": "stdout",
     "output_type": "stream",
     "text": [
      "<class 'pandas.core.frame.DataFrame'>\n",
      "RangeIndex: 126314 entries, 0 to 126313\n",
      "Data columns (total 24 columns):\n",
      " #   Column         Non-Null Count   Dtype         \n",
      "---  ------         --------------   -----         \n",
      " 0   gameorder      126314 non-null  int64         \n",
      " 1   game_id        126314 non-null  object        \n",
      " 2   lg_id          126314 non-null  object        \n",
      " 3   _iscopy        126314 non-null  int64         \n",
      " 4   year_id        126314 non-null  int64         \n",
      " 5   date_game      126314 non-null  object        \n",
      " 6   seasongame     126314 non-null  int64         \n",
      " 7   is_playoffs    126314 non-null  int64         \n",
      " 8   team_id        126314 non-null  object        \n",
      " 9   fran_id        126314 non-null  object        \n",
      " 10  pts            126314 non-null  int64         \n",
      " 11  elo_i          126314 non-null  float64       \n",
      " 12  elo_n          126314 non-null  float64       \n",
      " 13  win_equiv      126314 non-null  float64       \n",
      " 14  opp_id         126314 non-null  object        \n",
      " 15  opp_fran       126314 non-null  object        \n",
      " 16  opp_pts        126314 non-null  int64         \n",
      " 17  opp_elo_i      126314 non-null  float64       \n",
      " 18  opp_elo_n      126314 non-null  float64       \n",
      " 19  game_location  126314 non-null  object        \n",
      " 20  game_result    126314 non-null  object        \n",
      " 21  forecast       126314 non-null  float64       \n",
      " 22  notes          5424 non-null    object        \n",
      " 23  game_played    126314 non-null  datetime64[ns]\n",
      "dtypes: datetime64[ns](1), float64(6), int64(7), object(10)\n",
      "memory usage: 23.1+ MB\n"
     ]
    }
   ],
   "source": [
    "df.info()"
   ]
  },
  {
   "cell_type": "code",
   "execution_count": 11,
   "metadata": {},
   "outputs": [
    {
     "data": {
      "application/vnd.microsoft.datawrangler.viewer.v0+json": {
       "columns": [
        {
         "name": "fran_id",
         "rawType": "object",
         "type": "string"
        },
        {
         "name": "pts",
         "rawType": "int64",
         "type": "integer"
        }
       ],
       "ref": "f7a4fe4b-381e-4de5-a2d9-ab786aaa3dc9",
       "rows": [
        [
         "Baltimore",
         "37219"
        ],
        [
         "Bombers",
         "17793"
        ],
        [
         "Bucks",
         "418326"
        ],
        [
         "Bulls",
         "437269"
        ],
        [
         "Capitols",
         "22387"
        ]
       ],
       "shape": {
        "columns": 1,
        "rows": 5
       }
      },
      "text/plain": [
       "fran_id\n",
       "Baltimore     37219\n",
       "Bombers       17793\n",
       "Bucks        418326\n",
       "Bulls        437269\n",
       "Capitols      22387\n",
       "Name: pts, dtype: int64"
      ]
     },
     "execution_count": 11,
     "metadata": {},
     "output_type": "execute_result"
    }
   ],
   "source": [
    "df.groupby('fran_id', sort=True)['pts'].sum().head()"
   ]
  },
  {
   "cell_type": "code",
   "execution_count": 12,
   "metadata": {},
   "outputs": [
    {
     "data": {
      "application/vnd.microsoft.datawrangler.viewer.v0+json": {
       "columns": [
        {
         "name": "('year_id', 'game_result')",
         "rawType": "object",
         "type": "unknown"
        },
        {
         "name": "game_id",
         "rawType": "int64",
         "type": "integer"
        }
       ],
       "ref": "0147ee6e-6983-47af-a9e3-ebfd5f8ac3ae",
       "rows": [
        [
         "(2011, 'L')",
         "31"
        ],
        [
         "(2011, 'W')",
         "61"
        ],
        [
         "(2012, 'L')",
         "32"
        ],
        [
         "(2012, 'W')",
         "46"
        ],
        [
         "(2013, 'L')",
         "41"
        ],
        [
         "(2013, 'W')",
         "45"
        ],
        [
         "(2014, 'L')",
         "55"
        ],
        [
         "(2014, 'W')",
         "27"
        ],
        [
         "(2015, 'L')",
         "61"
        ],
        [
         "(2015, 'W')",
         "21"
        ]
       ],
       "shape": {
        "columns": 1,
        "rows": 10
       }
      },
      "text/plain": [
       "year_id  game_result\n",
       "2011     L              31\n",
       "         W              61\n",
       "2012     L              32\n",
       "         W              46\n",
       "2013     L              41\n",
       "         W              45\n",
       "2014     L              55\n",
       "         W              27\n",
       "2015     L              61\n",
       "         W              21\n",
       "Name: game_id, dtype: int64"
      ]
     },
     "execution_count": 12,
     "metadata": {},
     "output_type": "execute_result"
    }
   ],
   "source": [
    "df[\n",
    "    (df['fran_id'] == 'Lakers') &\n",
    "    (df['year_id'] > 2010)\n",
    "].groupby(['year_id', 'game_result'])['game_id'].count()"
   ]
  },
  {
   "cell_type": "code",
   "execution_count": 13,
   "metadata": {},
   "outputs": [
    {
     "data": {
      "application/vnd.microsoft.datawrangler.viewer.v0+json": {
       "columns": [
        {
         "name": "('is_playoffs', 'game_result')",
         "rawType": "object",
         "type": "unknown"
        },
        {
         "name": "game_id",
         "rawType": "int64",
         "type": "integer"
        }
       ],
       "ref": "499c9249-5b3f-4c20-b125-c6a2339a18d1",
       "rows": [
        [
         "(0, 'L')",
         "15"
        ],
        [
         "(0, 'W')",
         "67"
        ],
        [
         "(1, 'L')",
         "5"
        ],
        [
         "(1, 'W')",
         "16"
        ]
       ],
       "shape": {
        "columns": 1,
        "rows": 4
       }
      },
      "text/plain": [
       "is_playoffs  game_result\n",
       "0            L              15\n",
       "             W              67\n",
       "1            L               5\n",
       "             W              16\n",
       "Name: game_id, dtype: int64"
      ]
     },
     "execution_count": 13,
     "metadata": {},
     "output_type": "execute_result"
    }
   ],
   "source": [
    "df[\n",
    "    (df['fran_id'] == 'Warriors') & \n",
    "    (df['year_id'] == 2015)\n",
    "    ].groupby(['is_playoffs', 'game_result'])['game_id'].count()"
   ]
  },
  {
   "cell_type": "code",
   "execution_count": 14,
   "metadata": {},
   "outputs": [
    {
     "data": {
      "application/vnd.microsoft.datawrangler.viewer.v0+json": {
       "columns": [
        {
         "name": "game_location",
         "rawType": "object",
         "type": "string"
        },
        {
         "name": "count",
         "rawType": "int64",
         "type": "integer"
        }
       ],
       "ref": "8d8ed557-d595-4fcb-9a9e-cc18660d0eb3",
       "rows": [
        [
         "H",
         "63138"
        ],
        [
         "A",
         "63138"
        ],
        [
         "N",
         "38"
        ]
       ],
       "shape": {
        "columns": 1,
        "rows": 3
       }
      },
      "text/plain": [
       "game_location\n",
       "H    63138\n",
       "A    63138\n",
       "N       38\n",
       "Name: count, dtype: int64"
      ]
     },
     "execution_count": 14,
     "metadata": {},
     "output_type": "execute_result"
    }
   ],
   "source": [
    "df['game_location'].value_counts()"
   ]
  },
  {
   "cell_type": "code",
   "execution_count": 15,
   "metadata": {},
   "outputs": [
    {
     "data": {
      "text/plain": [
       "CategoricalDtype(categories=['A', 'H', 'N'], ordered=False, categories_dtype=object)"
      ]
     },
     "execution_count": 15,
     "metadata": {},
     "output_type": "execute_result"
    }
   ],
   "source": [
    "df['game_location'] = pd.Categorical(df['game_location'])\n",
    "df['game_location'].dtype"
   ]
  },
  {
   "cell_type": "code",
   "execution_count": 16,
   "metadata": {},
   "outputs": [
    {
     "data": {
      "text/plain": [
       "Index(['game_id', 'lg_id', 'date_game', 'team_id', 'fran_id', 'opp_id',\n",
       "       'opp_fran', 'game_result', 'notes'],\n",
       "      dtype='object')"
      ]
     },
     "execution_count": 16,
     "metadata": {},
     "output_type": "execute_result"
    }
   ],
   "source": [
    "df.dtypes[df.dtypes.values == 'object'].index"
   ]
  },
  {
   "cell_type": "code",
   "execution_count": 17,
   "metadata": {},
   "outputs": [
    {
     "data": {
      "application/vnd.microsoft.datawrangler.viewer.v0+json": {
       "columns": [
        {
         "name": "index",
         "rawType": "int64",
         "type": "integer"
        },
        {
         "name": "gameorder",
         "rawType": "int64",
         "type": "integer"
        },
        {
         "name": "game_id",
         "rawType": "object",
         "type": "string"
        },
        {
         "name": "lg_id",
         "rawType": "object",
         "type": "string"
        },
        {
         "name": "_iscopy",
         "rawType": "int64",
         "type": "integer"
        },
        {
         "name": "year_id",
         "rawType": "int64",
         "type": "integer"
        },
        {
         "name": "date_game",
         "rawType": "object",
         "type": "string"
        },
        {
         "name": "seasongame",
         "rawType": "int64",
         "type": "integer"
        },
        {
         "name": "is_playoffs",
         "rawType": "int64",
         "type": "integer"
        },
        {
         "name": "team_id",
         "rawType": "object",
         "type": "string"
        },
        {
         "name": "fran_id",
         "rawType": "object",
         "type": "string"
        },
        {
         "name": "pts",
         "rawType": "int64",
         "type": "integer"
        },
        {
         "name": "elo_i",
         "rawType": "float64",
         "type": "float"
        },
        {
         "name": "elo_n",
         "rawType": "float64",
         "type": "float"
        },
        {
         "name": "win_equiv",
         "rawType": "float64",
         "type": "float"
        },
        {
         "name": "opp_id",
         "rawType": "object",
         "type": "string"
        },
        {
         "name": "opp_fran",
         "rawType": "object",
         "type": "string"
        },
        {
         "name": "opp_pts",
         "rawType": "int64",
         "type": "integer"
        },
        {
         "name": "opp_elo_i",
         "rawType": "float64",
         "type": "float"
        },
        {
         "name": "opp_elo_n",
         "rawType": "float64",
         "type": "float"
        },
        {
         "name": "game_location",
         "rawType": "category",
         "type": "unknown"
        },
        {
         "name": "game_result",
         "rawType": "object",
         "type": "string"
        },
        {
         "name": "forecast",
         "rawType": "float64",
         "type": "float"
        },
        {
         "name": "notes",
         "rawType": "object",
         "type": "unknown"
        },
        {
         "name": "game_played",
         "rawType": "datetime64[ns]",
         "type": "datetime"
        }
       ],
       "ref": "685a2a3b-e48f-4f46-9831-9481fa51d016",
       "rows": [
        [
         "0",
         "1",
         "194611010TRH",
         "NBA",
         "0",
         "1947",
         "11/1/1946",
         "1",
         "0",
         "TRH",
         "Huskies",
         "66",
         "1300.0",
         "1293.2767",
         "40.29483",
         "NYK",
         "Knicks",
         "68",
         "1300.0",
         "1306.7233",
         "H",
         "L",
         "0.64006501",
         null,
         "1946-11-01 00:00:00"
        ],
        [
         "1",
         "1",
         "194611010TRH",
         "NBA",
         "1",
         "1947",
         "11/1/1946",
         "1",
         "0",
         "NYK",
         "Knicks",
         "68",
         "1300.0",
         "1306.7233",
         "41.70517",
         "TRH",
         "Huskies",
         "66",
         "1300.0",
         "1293.2767",
         "A",
         "W",
         "0.35993499",
         null,
         "1946-11-01 00:00:00"
        ],
        [
         "2",
         "2",
         "194611020CHS",
         "NBA",
         "0",
         "1947",
         "11/2/1946",
         "1",
         "0",
         "CHS",
         "Stags",
         "63",
         "1300.0",
         "1309.6521",
         "42.012257",
         "NYK",
         "Knicks",
         "47",
         "1306.7233",
         "1297.0712",
         "H",
         "W",
         "0.63110125",
         null,
         "1946-11-02 00:00:00"
        ],
        [
         "3",
         "2",
         "194611020CHS",
         "NBA",
         "1",
         "1947",
         "11/2/1946",
         "2",
         "0",
         "NYK",
         "Knicks",
         "47",
         "1306.7233",
         "1297.0712",
         "40.692783",
         "CHS",
         "Stags",
         "63",
         "1300.0",
         "1309.6521",
         "A",
         "L",
         "0.36889875",
         null,
         "1946-11-02 00:00:00"
        ],
        [
         "4",
         "3",
         "194611020DTF",
         "NBA",
         "0",
         "1947",
         "11/2/1946",
         "1",
         "0",
         "DTF",
         "Falcons",
         "33",
         "1300.0",
         "1279.6189",
         "38.864048",
         "WSC",
         "Capitols",
         "50",
         "1300.0",
         "1320.3811",
         "H",
         "L",
         "0.64006501",
         null,
         "1946-11-02 00:00:00"
        ]
       ],
       "shape": {
        "columns": 24,
        "rows": 5
       }
      },
      "text/html": [
       "<div>\n",
       "<style scoped>\n",
       "    .dataframe tbody tr th:only-of-type {\n",
       "        vertical-align: middle;\n",
       "    }\n",
       "\n",
       "    .dataframe tbody tr th {\n",
       "        vertical-align: top;\n",
       "    }\n",
       "\n",
       "    .dataframe thead th {\n",
       "        text-align: right;\n",
       "    }\n",
       "</style>\n",
       "<table border=\"1\" class=\"dataframe\">\n",
       "  <thead>\n",
       "    <tr style=\"text-align: right;\">\n",
       "      <th></th>\n",
       "      <th>gameorder</th>\n",
       "      <th>game_id</th>\n",
       "      <th>lg_id</th>\n",
       "      <th>_iscopy</th>\n",
       "      <th>year_id</th>\n",
       "      <th>date_game</th>\n",
       "      <th>seasongame</th>\n",
       "      <th>is_playoffs</th>\n",
       "      <th>team_id</th>\n",
       "      <th>fran_id</th>\n",
       "      <th>pts</th>\n",
       "      <th>elo_i</th>\n",
       "      <th>elo_n</th>\n",
       "      <th>win_equiv</th>\n",
       "      <th>opp_id</th>\n",
       "      <th>opp_fran</th>\n",
       "      <th>opp_pts</th>\n",
       "      <th>opp_elo_i</th>\n",
       "      <th>opp_elo_n</th>\n",
       "      <th>game_location</th>\n",
       "      <th>game_result</th>\n",
       "      <th>forecast</th>\n",
       "      <th>notes</th>\n",
       "      <th>game_played</th>\n",
       "    </tr>\n",
       "  </thead>\n",
       "  <tbody>\n",
       "    <tr>\n",
       "      <th>0</th>\n",
       "      <td>1</td>\n",
       "      <td>194611010TRH</td>\n",
       "      <td>NBA</td>\n",
       "      <td>0</td>\n",
       "      <td>1947</td>\n",
       "      <td>11/1/1946</td>\n",
       "      <td>1</td>\n",
       "      <td>0</td>\n",
       "      <td>TRH</td>\n",
       "      <td>Huskies</td>\n",
       "      <td>66</td>\n",
       "      <td>1300.00</td>\n",
       "      <td>1293.28</td>\n",
       "      <td>40.29</td>\n",
       "      <td>NYK</td>\n",
       "      <td>Knicks</td>\n",
       "      <td>68</td>\n",
       "      <td>1300.00</td>\n",
       "      <td>1306.72</td>\n",
       "      <td>H</td>\n",
       "      <td>L</td>\n",
       "      <td>0.64</td>\n",
       "      <td>NaN</td>\n",
       "      <td>1946-11-01</td>\n",
       "    </tr>\n",
       "    <tr>\n",
       "      <th>1</th>\n",
       "      <td>1</td>\n",
       "      <td>194611010TRH</td>\n",
       "      <td>NBA</td>\n",
       "      <td>1</td>\n",
       "      <td>1947</td>\n",
       "      <td>11/1/1946</td>\n",
       "      <td>1</td>\n",
       "      <td>0</td>\n",
       "      <td>NYK</td>\n",
       "      <td>Knicks</td>\n",
       "      <td>68</td>\n",
       "      <td>1300.00</td>\n",
       "      <td>1306.72</td>\n",
       "      <td>41.71</td>\n",
       "      <td>TRH</td>\n",
       "      <td>Huskies</td>\n",
       "      <td>66</td>\n",
       "      <td>1300.00</td>\n",
       "      <td>1293.28</td>\n",
       "      <td>A</td>\n",
       "      <td>W</td>\n",
       "      <td>0.36</td>\n",
       "      <td>NaN</td>\n",
       "      <td>1946-11-01</td>\n",
       "    </tr>\n",
       "    <tr>\n",
       "      <th>2</th>\n",
       "      <td>2</td>\n",
       "      <td>194611020CHS</td>\n",
       "      <td>NBA</td>\n",
       "      <td>0</td>\n",
       "      <td>1947</td>\n",
       "      <td>11/2/1946</td>\n",
       "      <td>1</td>\n",
       "      <td>0</td>\n",
       "      <td>CHS</td>\n",
       "      <td>Stags</td>\n",
       "      <td>63</td>\n",
       "      <td>1300.00</td>\n",
       "      <td>1309.65</td>\n",
       "      <td>42.01</td>\n",
       "      <td>NYK</td>\n",
       "      <td>Knicks</td>\n",
       "      <td>47</td>\n",
       "      <td>1306.72</td>\n",
       "      <td>1297.07</td>\n",
       "      <td>H</td>\n",
       "      <td>W</td>\n",
       "      <td>0.63</td>\n",
       "      <td>NaN</td>\n",
       "      <td>1946-11-02</td>\n",
       "    </tr>\n",
       "    <tr>\n",
       "      <th>3</th>\n",
       "      <td>2</td>\n",
       "      <td>194611020CHS</td>\n",
       "      <td>NBA</td>\n",
       "      <td>1</td>\n",
       "      <td>1947</td>\n",
       "      <td>11/2/1946</td>\n",
       "      <td>2</td>\n",
       "      <td>0</td>\n",
       "      <td>NYK</td>\n",
       "      <td>Knicks</td>\n",
       "      <td>47</td>\n",
       "      <td>1306.72</td>\n",
       "      <td>1297.07</td>\n",
       "      <td>40.69</td>\n",
       "      <td>CHS</td>\n",
       "      <td>Stags</td>\n",
       "      <td>63</td>\n",
       "      <td>1300.00</td>\n",
       "      <td>1309.65</td>\n",
       "      <td>A</td>\n",
       "      <td>L</td>\n",
       "      <td>0.37</td>\n",
       "      <td>NaN</td>\n",
       "      <td>1946-11-02</td>\n",
       "    </tr>\n",
       "    <tr>\n",
       "      <th>4</th>\n",
       "      <td>3</td>\n",
       "      <td>194611020DTF</td>\n",
       "      <td>NBA</td>\n",
       "      <td>0</td>\n",
       "      <td>1947</td>\n",
       "      <td>11/2/1946</td>\n",
       "      <td>1</td>\n",
       "      <td>0</td>\n",
       "      <td>DTF</td>\n",
       "      <td>Falcons</td>\n",
       "      <td>33</td>\n",
       "      <td>1300.00</td>\n",
       "      <td>1279.62</td>\n",
       "      <td>38.86</td>\n",
       "      <td>WSC</td>\n",
       "      <td>Capitols</td>\n",
       "      <td>50</td>\n",
       "      <td>1300.00</td>\n",
       "      <td>1320.38</td>\n",
       "      <td>H</td>\n",
       "      <td>L</td>\n",
       "      <td>0.64</td>\n",
       "      <td>NaN</td>\n",
       "      <td>1946-11-02</td>\n",
       "    </tr>\n",
       "  </tbody>\n",
       "</table>\n",
       "</div>"
      ],
      "text/plain": [
       "   gameorder       game_id lg_id  _iscopy  year_id  date_game  seasongame  \\\n",
       "0          1  194611010TRH   NBA        0     1947  11/1/1946           1   \n",
       "1          1  194611010TRH   NBA        1     1947  11/1/1946           1   \n",
       "2          2  194611020CHS   NBA        0     1947  11/2/1946           1   \n",
       "3          2  194611020CHS   NBA        1     1947  11/2/1946           2   \n",
       "4          3  194611020DTF   NBA        0     1947  11/2/1946           1   \n",
       "\n",
       "   is_playoffs team_id  fran_id  pts    elo_i    elo_n  win_equiv opp_id  \\\n",
       "0            0     TRH  Huskies   66  1300.00  1293.28      40.29    NYK   \n",
       "1            0     NYK   Knicks   68  1300.00  1306.72      41.71    TRH   \n",
       "2            0     CHS    Stags   63  1300.00  1309.65      42.01    NYK   \n",
       "3            0     NYK   Knicks   47  1306.72  1297.07      40.69    CHS   \n",
       "4            0     DTF  Falcons   33  1300.00  1279.62      38.86    WSC   \n",
       "\n",
       "   opp_fran  opp_pts  opp_elo_i  opp_elo_n game_location game_result  \\\n",
       "0    Knicks       68    1300.00    1306.72             H           L   \n",
       "1   Huskies       66    1300.00    1293.28             A           W   \n",
       "2    Knicks       47    1306.72    1297.07             H           W   \n",
       "3     Stags       63    1300.00    1309.65             A           L   \n",
       "4  Capitols       50    1300.00    1320.38             H           L   \n",
       "\n",
       "   forecast notes game_played  \n",
       "0      0.64   NaN  1946-11-01  \n",
       "1      0.36   NaN  1946-11-01  \n",
       "2      0.63   NaN  1946-11-02  \n",
       "3      0.37   NaN  1946-11-02  \n",
       "4      0.64   NaN  1946-11-02  "
      ]
     },
     "execution_count": 17,
     "metadata": {},
     "output_type": "execute_result"
    }
   ],
   "source": [
    "df.head()"
   ]
  },
  {
   "cell_type": "code",
   "execution_count": 18,
   "metadata": {},
   "outputs": [
    {
     "name": "stdout",
     "output_type": "stream",
     "text": [
      "col_name: game_result - uniq_val: L\n",
      "col_name: game_result - uniq_val: W\n",
      "category\n",
      "Index(['L', 'W'], dtype='object')\n"
     ]
    }
   ],
   "source": [
    "for col in df.columns:\n",
    "    if df[col].dtype == 'object':\n",
    "        for c in df[col].value_counts().index:\n",
    "            if len(c) == 1:\n",
    "                print(f'col_name: {col} - uniq_val: {c}') \n",
    "\n",
    "df['game_result'] = df['game_result'].astype('category')\n",
    "print(df['game_result'].dtype)\n",
    "print(df['game_result'].cat.categories)"
   ]
  },
  {
   "cell_type": "code",
   "execution_count": 19,
   "metadata": {},
   "outputs": [
    {
     "name": "stdout",
     "output_type": "stream",
     "text": [
      "before: (126314, 24)\n",
      "notes: 120890 of NaN\n",
      "after: (126314, 23)\n"
     ]
    }
   ],
   "source": [
    "print(f'before: {df.shape}')\n",
    "nan_series = df.isna().sum()\n",
    "\n",
    "for idx in nan_series.index:\n",
    "    if nan_series[idx] > 0:\n",
    "        print(f'{idx}: {nan_series[idx]} of NaN')\n",
    "\n",
    "df_miss_cols = df.drop(columns='notes', axis=1)\n",
    "print(f'after: {df_miss_cols.shape}')"
   ]
  },
  {
   "cell_type": "code",
   "execution_count": 20,
   "metadata": {},
   "outputs": [
    {
     "name": "stderr",
     "output_type": "stream",
     "text": [
      "C:\\Users\\a\\AppData\\Local\\Temp\\ipykernel_12616\\2075464211.py:2: FutureWarning: A value is trying to be set on a copy of a DataFrame or Series through chained assignment using an inplace method.\n",
      "The behavior will change in pandas 3.0. This inplace method will never work because the intermediate object on which we are setting values always behaves as a copy.\n",
      "\n",
      "For example, when doing 'df[col].method(value, inplace=True)', try using 'df.method({col: value}, inplace=True)' or df[col] = df[col].method(value) instead, to perform the operation inplace on the original object.\n",
      "\n",
      "\n",
      "  df_default_notes['notes'].fillna(value='no notes at all', inplace=True)\n"
     ]
    },
    {
     "data": {
      "application/vnd.microsoft.datawrangler.viewer.v0+json": {
       "columns": [
        {
         "name": "index",
         "rawType": "object",
         "type": "string"
        },
        {
         "name": "notes",
         "rawType": "object",
         "type": "unknown"
        }
       ],
       "ref": "ff4467f9-10b2-4598-883e-2df87b53740b",
       "rows": [
        [
         "count",
         "126314"
        ],
        [
         "unique",
         "232"
        ],
        [
         "top",
         "no notes at all"
        ],
        [
         "freq",
         "120890"
        ]
       ],
       "shape": {
        "columns": 1,
        "rows": 4
       }
      },
      "text/plain": [
       "count              126314\n",
       "unique                232\n",
       "top       no notes at all\n",
       "freq               120890\n",
       "Name: notes, dtype: object"
      ]
     },
     "execution_count": 20,
     "metadata": {},
     "output_type": "execute_result"
    }
   ],
   "source": [
    "df_default_notes = df.copy()\n",
    "df_default_notes['notes'].fillna(value='no notes at all', inplace=True)\n",
    "df_default_notes['notes'].describe()"
   ]
  },
  {
   "cell_type": "code",
   "execution_count": 21,
   "metadata": {},
   "outputs": [
    {
     "data": {
      "application/vnd.microsoft.datawrangler.viewer.v0+json": {
       "columns": [
        {
         "name": "index",
         "rawType": "object",
         "type": "string"
        },
        {
         "name": "gameorder",
         "rawType": "float64",
         "type": "float"
        },
        {
         "name": "_iscopy",
         "rawType": "float64",
         "type": "float"
        },
        {
         "name": "year_id",
         "rawType": "float64",
         "type": "float"
        },
        {
         "name": "seasongame",
         "rawType": "float64",
         "type": "float"
        },
        {
         "name": "is_playoffs",
         "rawType": "float64",
         "type": "float"
        },
        {
         "name": "pts",
         "rawType": "float64",
         "type": "float"
        },
        {
         "name": "elo_i",
         "rawType": "float64",
         "type": "float"
        },
        {
         "name": "elo_n",
         "rawType": "float64",
         "type": "float"
        },
        {
         "name": "win_equiv",
         "rawType": "float64",
         "type": "float"
        },
        {
         "name": "opp_pts",
         "rawType": "float64",
         "type": "float"
        },
        {
         "name": "opp_elo_i",
         "rawType": "float64",
         "type": "float"
        },
        {
         "name": "opp_elo_n",
         "rawType": "float64",
         "type": "float"
        },
        {
         "name": "forecast",
         "rawType": "float64",
         "type": "float"
        },
        {
         "name": "game_played",
         "rawType": "object",
         "type": "unknown"
        }
       ],
       "ref": "68812cfc-4e3b-41d6-b180-36ddc2ff259a",
       "rows": [
        [
         "count",
         "126314.0",
         "126314.0",
         "126314.0",
         "126314.0",
         "126314.0",
         "126314.0",
         "126314.0",
         "126314.0",
         "126314.0",
         "126314.0",
         "126314.0",
         "126314.0",
         "126314.0",
         "126314"
        ],
        [
         "mean",
         "31579.0",
         "0.5",
         "1988.2003736719603",
         "43.53373339455642",
         "0.06385673797045457",
         "102.72998242475101",
         "1495.2360553778676",
         "1495.236055381035",
         "41.70788868917144",
         "102.72998242475101",
         "1495.2360553778676",
         "1495.236055381035",
         "0.5000000000270357",
         "1988-04-09 00:53:18.429311104"
        ],
        [
         "min",
         "1.0",
         "0.0",
         "1947.0",
         "1.0",
         "0.0",
         "0.0",
         "1091.6445",
         "1085.7744",
         "10.152501",
         "0.0",
         "1091.6445",
         "1085.7744",
         "0.020446837",
         "1946-11-01 00:00:00"
        ],
        [
         "25%",
         "15790.0",
         "0.0",
         "1975.0",
         "22.0",
         "0.0",
         "93.0",
         "1417.237975",
         "1416.9949000000001",
         "34.103035",
         "93.0",
         "1417.237975",
         "1416.9949000000001",
         "0.32798905500000003",
         "1974-11-08 00:00:00"
        ],
        [
         "50%",
         "31579.0",
         "0.5",
         "1990.0",
         "43.0",
         "0.0",
         "103.0",
         "1500.94555",
         "1500.9544",
         "42.1133575",
         "103.0",
         "1500.94555",
         "1500.9544",
         "0.5",
         "1990-02-06 00:00:00"
        ],
        [
         "75%",
         "47368.0",
         "1.0",
         "2003.0",
         "65.0",
         "0.0",
         "112.0",
         "1576.06",
         "1576.291625",
         "49.63532825",
         "112.0",
         "1576.06",
         "1576.291625",
         "0.672010945",
         "2003-03-19 00:00:00"
        ],
        [
         "max",
         "63157.0",
         "1.0",
         "2015.0",
         "108.0",
         "1.0",
         "186.0",
         "1853.1045",
         "1853.1045",
         "71.112038",
         "186.0",
         "1853.1045",
         "1853.1045",
         "0.97955316",
         "2015-06-16 00:00:00"
        ],
        [
         "std",
         "18231.927642531373",
         "0.500001979206457",
         "17.582309487525777",
         "25.37517787425138",
         "0.24449852401946684",
         "14.81484465438546",
         "112.13994508379109",
         "112.46168741141798",
         "10.627331770237861",
         "14.81484465438546",
         "112.1399450837911",
         "112.46168741141798",
         "0.21525223981658934",
         null
        ]
       ],
       "shape": {
        "columns": 14,
        "rows": 8
       }
      },
      "text/html": [
       "<div>\n",
       "<style scoped>\n",
       "    .dataframe tbody tr th:only-of-type {\n",
       "        vertical-align: middle;\n",
       "    }\n",
       "\n",
       "    .dataframe tbody tr th {\n",
       "        vertical-align: top;\n",
       "    }\n",
       "\n",
       "    .dataframe thead th {\n",
       "        text-align: right;\n",
       "    }\n",
       "</style>\n",
       "<table border=\"1\" class=\"dataframe\">\n",
       "  <thead>\n",
       "    <tr style=\"text-align: right;\">\n",
       "      <th></th>\n",
       "      <th>gameorder</th>\n",
       "      <th>_iscopy</th>\n",
       "      <th>year_id</th>\n",
       "      <th>seasongame</th>\n",
       "      <th>is_playoffs</th>\n",
       "      <th>pts</th>\n",
       "      <th>elo_i</th>\n",
       "      <th>elo_n</th>\n",
       "      <th>win_equiv</th>\n",
       "      <th>opp_pts</th>\n",
       "      <th>opp_elo_i</th>\n",
       "      <th>opp_elo_n</th>\n",
       "      <th>forecast</th>\n",
       "      <th>game_played</th>\n",
       "    </tr>\n",
       "  </thead>\n",
       "  <tbody>\n",
       "    <tr>\n",
       "      <th>count</th>\n",
       "      <td>126314.00</td>\n",
       "      <td>126314.0</td>\n",
       "      <td>126314.00</td>\n",
       "      <td>126314.00</td>\n",
       "      <td>126314.00</td>\n",
       "      <td>126314.00</td>\n",
       "      <td>126314.00</td>\n",
       "      <td>126314.00</td>\n",
       "      <td>126314.00</td>\n",
       "      <td>126314.00</td>\n",
       "      <td>126314.00</td>\n",
       "      <td>126314.00</td>\n",
       "      <td>126314.00</td>\n",
       "      <td>126314</td>\n",
       "    </tr>\n",
       "    <tr>\n",
       "      <th>mean</th>\n",
       "      <td>31579.00</td>\n",
       "      <td>0.5</td>\n",
       "      <td>1988.20</td>\n",
       "      <td>43.53</td>\n",
       "      <td>0.06</td>\n",
       "      <td>102.73</td>\n",
       "      <td>1495.24</td>\n",
       "      <td>1495.24</td>\n",
       "      <td>41.71</td>\n",
       "      <td>102.73</td>\n",
       "      <td>1495.24</td>\n",
       "      <td>1495.24</td>\n",
       "      <td>0.50</td>\n",
       "      <td>1988-04-09 00:53:18.429311104</td>\n",
       "    </tr>\n",
       "    <tr>\n",
       "      <th>min</th>\n",
       "      <td>1.00</td>\n",
       "      <td>0.0</td>\n",
       "      <td>1947.00</td>\n",
       "      <td>1.00</td>\n",
       "      <td>0.00</td>\n",
       "      <td>0.00</td>\n",
       "      <td>1091.64</td>\n",
       "      <td>1085.77</td>\n",
       "      <td>10.15</td>\n",
       "      <td>0.00</td>\n",
       "      <td>1091.64</td>\n",
       "      <td>1085.77</td>\n",
       "      <td>0.02</td>\n",
       "      <td>1946-11-01 00:00:00</td>\n",
       "    </tr>\n",
       "    <tr>\n",
       "      <th>25%</th>\n",
       "      <td>15790.00</td>\n",
       "      <td>0.0</td>\n",
       "      <td>1975.00</td>\n",
       "      <td>22.00</td>\n",
       "      <td>0.00</td>\n",
       "      <td>93.00</td>\n",
       "      <td>1417.24</td>\n",
       "      <td>1416.99</td>\n",
       "      <td>34.10</td>\n",
       "      <td>93.00</td>\n",
       "      <td>1417.24</td>\n",
       "      <td>1416.99</td>\n",
       "      <td>0.33</td>\n",
       "      <td>1974-11-08 00:00:00</td>\n",
       "    </tr>\n",
       "    <tr>\n",
       "      <th>50%</th>\n",
       "      <td>31579.00</td>\n",
       "      <td>0.5</td>\n",
       "      <td>1990.00</td>\n",
       "      <td>43.00</td>\n",
       "      <td>0.00</td>\n",
       "      <td>103.00</td>\n",
       "      <td>1500.95</td>\n",
       "      <td>1500.95</td>\n",
       "      <td>42.11</td>\n",
       "      <td>103.00</td>\n",
       "      <td>1500.95</td>\n",
       "      <td>1500.95</td>\n",
       "      <td>0.50</td>\n",
       "      <td>1990-02-06 00:00:00</td>\n",
       "    </tr>\n",
       "    <tr>\n",
       "      <th>75%</th>\n",
       "      <td>47368.00</td>\n",
       "      <td>1.0</td>\n",
       "      <td>2003.00</td>\n",
       "      <td>65.00</td>\n",
       "      <td>0.00</td>\n",
       "      <td>112.00</td>\n",
       "      <td>1576.06</td>\n",
       "      <td>1576.29</td>\n",
       "      <td>49.64</td>\n",
       "      <td>112.00</td>\n",
       "      <td>1576.06</td>\n",
       "      <td>1576.29</td>\n",
       "      <td>0.67</td>\n",
       "      <td>2003-03-19 00:00:00</td>\n",
       "    </tr>\n",
       "    <tr>\n",
       "      <th>max</th>\n",
       "      <td>63157.00</td>\n",
       "      <td>1.0</td>\n",
       "      <td>2015.00</td>\n",
       "      <td>108.00</td>\n",
       "      <td>1.00</td>\n",
       "      <td>186.00</td>\n",
       "      <td>1853.10</td>\n",
       "      <td>1853.10</td>\n",
       "      <td>71.11</td>\n",
       "      <td>186.00</td>\n",
       "      <td>1853.10</td>\n",
       "      <td>1853.10</td>\n",
       "      <td>0.98</td>\n",
       "      <td>2015-06-16 00:00:00</td>\n",
       "    </tr>\n",
       "    <tr>\n",
       "      <th>std</th>\n",
       "      <td>18231.93</td>\n",
       "      <td>0.5</td>\n",
       "      <td>17.58</td>\n",
       "      <td>25.38</td>\n",
       "      <td>0.24</td>\n",
       "      <td>14.81</td>\n",
       "      <td>112.14</td>\n",
       "      <td>112.46</td>\n",
       "      <td>10.63</td>\n",
       "      <td>14.81</td>\n",
       "      <td>112.14</td>\n",
       "      <td>112.46</td>\n",
       "      <td>0.22</td>\n",
       "      <td>NaN</td>\n",
       "    </tr>\n",
       "  </tbody>\n",
       "</table>\n",
       "</div>"
      ],
      "text/plain": [
       "       gameorder   _iscopy    year_id  seasongame  is_playoffs        pts  \\\n",
       "count  126314.00  126314.0  126314.00   126314.00    126314.00  126314.00   \n",
       "mean    31579.00       0.5    1988.20       43.53         0.06     102.73   \n",
       "min         1.00       0.0    1947.00        1.00         0.00       0.00   \n",
       "25%     15790.00       0.0    1975.00       22.00         0.00      93.00   \n",
       "50%     31579.00       0.5    1990.00       43.00         0.00     103.00   \n",
       "75%     47368.00       1.0    2003.00       65.00         0.00     112.00   \n",
       "max     63157.00       1.0    2015.00      108.00         1.00     186.00   \n",
       "std     18231.93       0.5      17.58       25.38         0.24      14.81   \n",
       "\n",
       "           elo_i      elo_n  win_equiv    opp_pts  opp_elo_i  opp_elo_n  \\\n",
       "count  126314.00  126314.00  126314.00  126314.00  126314.00  126314.00   \n",
       "mean     1495.24    1495.24      41.71     102.73    1495.24    1495.24   \n",
       "min      1091.64    1085.77      10.15       0.00    1091.64    1085.77   \n",
       "25%      1417.24    1416.99      34.10      93.00    1417.24    1416.99   \n",
       "50%      1500.95    1500.95      42.11     103.00    1500.95    1500.95   \n",
       "75%      1576.06    1576.29      49.64     112.00    1576.06    1576.29   \n",
       "max      1853.10    1853.10      71.11     186.00    1853.10    1853.10   \n",
       "std       112.14     112.46      10.63      14.81     112.14     112.46   \n",
       "\n",
       "        forecast                    game_played  \n",
       "count  126314.00                         126314  \n",
       "mean        0.50  1988-04-09 00:53:18.429311104  \n",
       "min         0.02            1946-11-01 00:00:00  \n",
       "25%         0.33            1974-11-08 00:00:00  \n",
       "50%         0.50            1990-02-06 00:00:00  \n",
       "75%         0.67            2003-03-19 00:00:00  \n",
       "max         0.98            2015-06-16 00:00:00  \n",
       "std         0.22                            NaN  "
      ]
     },
     "execution_count": 21,
     "metadata": {},
     "output_type": "execute_result"
    }
   ],
   "source": [
    "# INVALID VALUES\n",
    "df.describe()"
   ]
  },
  {
   "cell_type": "code",
   "execution_count": 22,
   "metadata": {},
   "outputs": [
    {
     "data": {
      "image/png": "[encoded data removed]",
      "text/plain": [
       "<Figure size 640x480 with 1 Axes>"
      ]
     },
     "metadata": {},
     "output_type": "display_data"
    },
    {
     "data": {
      "text/plain": [
       "<Axes: xlabel='pts'>"
      ]
     },
     "execution_count": 22,
     "metadata": {},
     "output_type": "execute_result"
    },
    {
     "data": {
      "image/png": "[encoded data removed]",
      "text/plain": [
       "<Figure size 640x480 with 1 Axes>"
      ]
     },
     "metadata": {},
     "output_type": "display_data"
    }
   ],
   "source": [
    "import matplotlib.pyplot as plt\n",
    "import seaborn as sns\n",
    "\n",
    "plt.hist(df['pts'], bins=40)\n",
    "plt.grid()\n",
    "plt.show()\n",
    "\n",
    "sns.boxplot(x=df['pts'])"
   ]
  },
  {
   "cell_type": "code",
   "execution_count": 23,
   "metadata": {},
   "outputs": [
    {
     "data": {
      "text/plain": [
       "<Axes: ylabel='Frequency'>"
      ]
     },
     "execution_count": 23,
     "metadata": {},
     "output_type": "execute_result"
    },
    {
     "data": {
      "image/png": "[encoded data removed]",
      "text/plain": [
       "<Figure size 640x480 with 1 Axes>"
      ]
     },
     "metadata": {},
     "output_type": "display_data"
    }
   ],
   "source": [
    "df['pts'].plot(kind='hist')"
   ]
  },
  {
   "cell_type": "code",
   "execution_count": 24,
   "metadata": {},
   "outputs": [
    {
     "data": {
      "text/plain": [
       "(19.0, 74.5, 131.5, 93.0, 103.0, 112.0)"
      ]
     },
     "execution_count": 24,
     "metadata": {},
     "output_type": "execute_result"
    }
   ],
   "source": [
    "q1 = df['pts'].quantile(0.25)\n",
    "q2 = df['pts'].quantile(0.50)\n",
    "q3 = df['pts'].quantile(0.75)\n",
    "iqr = q3 - q1\n",
    "min = q2 - 1.5*iqr\n",
    "max = q2 + 1.5*iqr\n",
    "iqr, min, max, q1, q2, q3"
   ]
  },
  {
   "cell_type": "code",
   "execution_count": 25,
   "metadata": {},
   "outputs": [
    {
     "data": {
      "application/vnd.microsoft.datawrangler.viewer.v0+json": {
       "columns": [
        {
         "name": "index",
         "rawType": "object",
         "type": "string"
        },
        {
         "name": "0",
         "rawType": "float64",
         "type": "float"
        }
       ],
       "ref": "d6fe923d-b0d1-4e57-b2ae-df8419a7f996",
       "rows": [
        [
         "gameorder",
         "31578.0"
        ],
        [
         "_iscopy",
         "1.0"
        ],
        [
         "year_id",
         "28.0"
        ],
        [
         "seasongame",
         "43.0"
        ],
        [
         "is_playoffs",
         "0.0"
        ],
        [
         "pts",
         "19.0"
        ],
        [
         "elo_i",
         "158.82202499999994"
        ],
        [
         "elo_n",
         "159.29672499999992"
        ],
        [
         "win_equiv",
         "15.532293250000002"
        ],
        [
         "opp_pts",
         "19.0"
        ],
        [
         "opp_elo_i",
         "158.82202499999994"
        ],
        [
         "opp_elo_n",
         "159.29672499999992"
        ],
        [
         "forecast",
         "0.34402189"
        ]
       ],
       "shape": {
        "columns": 1,
        "rows": 13
       }
      },
      "text/plain": [
       "gameorder      31578.00\n",
       "_iscopy            1.00\n",
       "year_id           28.00\n",
       "seasongame        43.00\n",
       "is_playoffs        0.00\n",
       "pts               19.00\n",
       "elo_i            158.82\n",
       "elo_n            159.30\n",
       "win_equiv         15.53\n",
       "opp_pts           19.00\n",
       "opp_elo_i        158.82\n",
       "opp_elo_n        159.30\n",
       "forecast           0.34\n",
       "dtype: float64"
      ]
     },
     "execution_count": 25,
     "metadata": {},
     "output_type": "execute_result"
    }
   ],
   "source": [
    "num_cols = df.select_dtypes('number').columns\n",
    "q1 = df[num_cols].quantile(0.25)\n",
    "q3 = df[num_cols].quantile(0.75)\n",
    "iqr = q3 - q1\n",
    "min = q1 - 1.5*iqr\n",
    "max = q3 + 1.5*iqr\n",
    "iqr"
   ]
  },
  {
   "cell_type": "code",
   "execution_count": 26,
   "metadata": {},
   "outputs": [
    {
     "data": {
      "text/plain": [
       "Index(['game_id', 'lg_id', 'date_game', 'team_id', 'fran_id', 'opp_id',\n",
       "       'opp_fran', 'notes'],\n",
       "      dtype='object')"
      ]
     },
     "execution_count": 26,
     "metadata": {},
     "output_type": "execute_result"
    }
   ],
   "source": [
    "df.select_dtypes('number').columns\n",
    "df.select_dtypes('category').columns\n",
    "df.select_dtypes('object').columns"
   ]
  },
  {
   "cell_type": "code",
   "execution_count": 27,
   "metadata": {},
   "outputs": [
    {
     "ename": "SyntaxError",
     "evalue": "invalid syntax (356386210.py, line 3)",
     "output_type": "error",
     "traceback": [
      "\u001b[1;36m  Cell \u001b[1;32mIn[27], line 3\u001b[1;36m\u001b[0m\n\u001b[1;33m    ]\u001b[0m\n\u001b[1;37m    ^\u001b[0m\n\u001b[1;31mSyntaxError\u001b[0m\u001b[1;31m:\u001b[0m invalid syntax\n"
     ]
    }
   ],
   "source": [
    "df[\n",
    "    \n",
    "]"
   ]
  },
  {
   "cell_type": "code",
   "execution_count": null,
   "metadata": {},
   "outputs": [
    {
     "data": {
      "application/vnd.microsoft.datawrangler.viewer.v0+json": {
       "columns": [
        {
         "name": "year_id",
         "rawType": "int64",
         "type": "integer"
        },
        {
         "name": "count",
         "rawType": "int64",
         "type": "integer"
        }
       ],
       "ref": "5ec48cdc-c59e-48a2-948c-b163ae36540e",
       "rows": [
        [
         "1948",
         "430"
        ],
        [
         "1957",
         "614"
        ],
        [
         "1955",
         "618"
        ],
        [
         "1958",
         "618"
        ],
        [
         "1959",
         "620"
        ],
        [
         "1956",
         "622"
        ],
        [
         "1960",
         "650"
        ],
        [
         "1961",
         "682"
        ],
        [
         "1954",
         "694"
        ],
        [
         "1947",
         "700"
        ],
        [
         "1952",
         "710"
        ],
        [
         "1953",
         "748"
        ],
        [
         "1951",
         "760"
        ],
        [
         "1949",
         "760"
        ],
        [
         "1965",
         "772"
        ],
        [
         "1966",
         "774"
        ],
        [
         "1964",
         "774"
        ],
        [
         "1963",
         "778"
        ],
        [
         "1962",
         "778"
        ],
        [
         "1967",
         "872"
        ],
        [
         "1950",
         "1186"
        ],
        [
         "1999",
         "1582"
        ],
        [
         "1980",
         "1900"
        ],
        [
         "1978",
         "1906"
        ],
        [
         "1977",
         "1910"
        ],
        [
         "1979",
         "1910"
        ],
        [
         "1983",
         "1972"
        ],
        [
         "1982",
         "1980"
        ],
        [
         "1968",
         "1988"
        ],
        [
         "1981",
         "1992"
        ],
        [
         "1985",
         "2022"
        ],
        [
         "1986",
         "2022"
        ],
        [
         "1987",
         "2028"
        ],
        [
         "1984",
         "2044"
        ],
        [
         "1988",
         "2046"
        ],
        [
         "2012",
         "2148"
        ],
        [
         "1969",
         "2168"
        ],
        [
         "1989",
         "2174"
        ],
        [
         "1970",
         "2232"
        ],
        [
         "1976",
         "2236"
        ],
        [
         "1991",
         "2350"
        ],
        [
         "1990",
         "2358"
        ],
        [
         "1992",
         "2360"
        ],
        [
         "1995",
         "2360"
        ],
        [
         "1993",
         "2366"
        ],
        [
         "1994",
         "2368"
        ],
        [
         "1974",
         "2394"
        ],
        [
         "1973",
         "2394"
        ],
        [
         "1972",
         "2474"
        ],
        [
         "1971",
         "2480"
        ]
       ],
       "shape": {
        "columns": 1,
        "rows": 69
       }
      },
      "text/plain": [
       "year_id\n",
       "1948     430\n",
       "1957     614\n",
       "1955     618\n",
       "1958     618\n",
       "1959     620\n",
       "        ... \n",
       "2013    2628\n",
       "2009    2630\n",
       "2008    2632\n",
       "2006    2638\n",
       "2014    2638\n",
       "Name: count, Length: 69, dtype: int64"
      ]
     },
     "execution_count": 34,
     "metadata": {},
     "output_type": "execute_result"
    }
   ],
   "source": [
    "df['year_id'].agg(['min', 'max'])\n",
    "df['year_id'].value_counts().sort_values(ascending=True)"
   ]
  },
  {
   "cell_type": "code",
   "execution_count": 28,
   "metadata": {},
   "outputs": [
    {
     "data": {
      "text/plain": [
       "((126314, 24), (125184, 24), (1130, 24))"
      ]
     },
     "execution_count": 28,
     "metadata": {},
     "output_type": "execute_result"
    }
   ],
   "source": [
    "df.shape, df[df['year_id'] > 1948].shape, df[~(df['year_id'] > 1948)].shape"
   ]
  },
  {
   "cell_type": "code",
   "execution_count": null,
   "metadata": {},
   "outputs": [],
   "source": []
  }
 ],
 "metadata": {
  "kernelspec": {
   "display_name": "base",
   "language": "python",
   "name": "python3"
  },
  "language_info": {
   "codemirror_mode": {
    "name": "ipython",
    "version": 3
   },
   "file_extension": ".py",
   "mimetype": "text/x-python",
   "name": "python",
   "nbconvert_exporter": "python",
   "pygments_lexer": "ipython3",
   "version": "3.12.7"
  },
  "orig_nbformat": 4
 },
 "nbformat": 4,
 "nbformat_minor": 2
}
